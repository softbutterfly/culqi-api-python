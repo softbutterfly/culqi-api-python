{
 "cells": [
  {
   "cell_type": "markdown",
   "id": "impossible-moisture",
   "metadata": {},
   "source": [
    "# Introducción"
   ]
  },
  {
   "cell_type": "markdown",
   "id": "serial-chess",
   "metadata": {},
   "source": [
    "La API de Culqi está construido bajo los estándares de REST. Es decir, nuestra API posee URLs orientada a recursos, y hace uso de los códigos de respuesta HTTP para indicar los posibles errores en el API. Es importante indicar que se encuentra implementada una autenticación HTTP (Bearer Token), solicitada en cada petición. Además, soportamos las solicitudes HTTP de origen cruzado (CORS), permitiendo que tu sitio y Culqi puedan interactuar de manera segura mediante nuestra API desde una aplicación cliente (aunque NUNCA deberías exponer tu Llave Secreta en el código de la aplicación web cliente). Por otro lado, un objeto JSON es retornado en cada una las peticiones hacia el API, incluyendo los errores. Adicionalmente nuestras bibliotecas convierten las respuestas en objetos específicos para cada lenguaje soportado."
   ]
  },
  {
   "cell_type": "markdown",
   "id": "racial-celebrity",
   "metadata": {},
   "source": [
    "Finalmente, para que puedas comenzar a experimentar con nuestra API, todas las cuentas registradas en Culqi poseen llaves para el entorno de pruebas (Regístrate y obtén tus llaves) y el entorno de producción. Usando las llaves de prueba las transacciones nunca pasan por las redes bancarias y no tienen ningún costo. (¡Recuerda usar tarjetas de prueba, no tarjetas reales al probar!)."
   ]
  },
  {
   "cell_type": "markdown",
   "id": "british-findings",
   "metadata": {},
   "source": [
    "# Inicialización"
   ]
  },
  {
   "cell_type": "markdown",
   "id": "extraordinary-australia",
   "metadata": {},
   "source": [
    "Para inicializar el cliente necesitamos la llave pública y la llave privada que nos dan en Culqi al crear nuestro comercio. Suponiendo que hemos colocado nuestras llaves en un archivo `.env`, procedemos a cargarlas de la siguiente manera."
   ]
  },
  {
   "cell_type": "code",
   "execution_count": 1,
   "id": "alternative-validation",
   "metadata": {},
   "outputs": [],
   "source": [
    "import os\n",
    "import json\n",
    "from uuid import uuid4\n",
    "from copy import deepcopy\n",
    "from dotenv import load_dotenv\n",
    "\n",
    "load_dotenv();"
   ]
  },
  {
   "cell_type": "markdown",
   "id": "duplicate-quantum",
   "metadata": {},
   "source": [
    "Asumiendo que nuestras llaves fueron almacenadas en las variables de entorno `API_PUBLIC_KEY` y `API_PRIVATE_KEY`, inicializamos el cliente así"
   ]
  },
  {
   "cell_type": "code",
   "execution_count": 2,
   "id": "ambient-vehicle",
   "metadata": {},
   "outputs": [],
   "source": [
    "from culqi import Culqi\n",
    "\n",
    "public_key = os.environ.get(\"API_PUBLIC_KEY\")\n",
    "private_key = os.environ.get(\"API_PRIVATE_KEY\")\n",
    "\n",
    "culqi = Culqi(public_key=public_key, private_key=private_key)"
   ]
  },
  {
   "cell_type": "markdown",
   "id": "ancient-public",
   "metadata": {},
   "source": [
    "# Recursos"
   ]
  },
  {
   "cell_type": "markdown",
   "id": "remarkable-following",
   "metadata": {},
   "source": [
    "Para mostrar la forma de acceder a los distintos recuros de Culqi emplearemos datos de pruebas. Estos datos serán los mismos que utilizamos en los tests."
   ]
  },
  {
   "cell_type": "code",
   "execution_count": 3,
   "id": "hindu-subscriber",
   "metadata": {},
   "outputs": [],
   "source": [
    "class Data:\n",
    "    CARD = {\n",
    "        \"successful\": {\n",
    "            \"visa\": {\n",
    "                \"card_number\": \"4111111111111111\",\n",
    "                \"expiration_month\": \"09\",\n",
    "                \"expiration_year\": \"2025\",\n",
    "                \"cvv\": \"123\",\n",
    "                \"email\": \"richard@piedpiper.com\",\n",
    "            },\n",
    "            \"master_card\": {\n",
    "                \"card_number\": \"5111111111111118\",\n",
    "                \"expiration_month\": \"06\",\n",
    "                \"expiration_year\": \"2025\",\n",
    "                \"cvv\": \"039\",\n",
    "                \"email\": \"richard@piedpiper.com\",\n",
    "            },\n",
    "            \"american_express\": {\n",
    "                \"card_number\": \"371212121212122\",\n",
    "                \"expiration_month\": \"11\",\n",
    "                \"expiration_year\": \"2025\",\n",
    "                \"cvv\": \"2841\",\n",
    "                \"email\": \"richard@piedpiper.com\",\n",
    "            },\n",
    "            \"diners_club\": {\n",
    "                \"card_number\": \"36001212121210\",\n",
    "                \"expiration_month\": \"04\",\n",
    "                \"expiration_year\": \"2025\",\n",
    "                \"cvv\": \"964\",\n",
    "                \"email\": \"richard@piedpiper.com\",\n",
    "            },\n",
    "        },\n",
    "        \"stolen_card\": {\n",
    "            \"visa\": {\n",
    "                \"card_number\": \"4000020000000000\",\n",
    "                \"expiration_month\": \"10\",\n",
    "                \"expiration_year\": \"2025\",\n",
    "                \"cvv\": \"354\",\n",
    "                \"email\": \"richard@piedpiper.com\",\n",
    "            }\n",
    "        },\n",
    "        \"lost_card\": {\n",
    "            \"visa\": {\n",
    "                \"card_number\": \"4000030000000009\",\n",
    "                \"expiration_month\": \"08\",\n",
    "                \"expiration_year\": \"2025\",\n",
    "                \"cvv\": \"836\",\n",
    "                \"email\": \"richard@piedpiper.com\",\n",
    "            }\n",
    "        },\n",
    "        \"insufficient_funds\": {\n",
    "            \"visa\": {\n",
    "                \"card_number\": \"4000040000000008\",\n",
    "                \"expiration_month\": \"03\",\n",
    "                \"expiration_year\": \"2025\",\n",
    "                \"cvv\": \"295\",\n",
    "                \"email\": \"richard@piedpiper.com\",\n",
    "            }\n",
    "        },\n",
    "        \"contact_issuer\": {\n",
    "            \"master_card\": {\n",
    "                \"card_number\": \"5400000000000005\",\n",
    "                \"expiration_month\": \"01\",\n",
    "                \"expiration_year\": \"2025\",\n",
    "                \"cvv\": \"492\",\n",
    "                \"email\": \"richard@piedpiper.com\",\n",
    "            }\n",
    "        },\n",
    "        \"incorrect_cvv\": {\n",
    "            \"master_card\": {\n",
    "                \"card_number\": \"5400020000000003\",\n",
    "                \"expiration_month\": \"07\",\n",
    "                \"expiration_year\": \"2025\",\n",
    "                \"cvv\": \"203\",\n",
    "                \"email\": \"richard@piedpiper.com\",\n",
    "            }\n",
    "        },\n",
    "        \"issuer_not_available\": {\n",
    "            \"american_express\": {\n",
    "                \"card_number\": \"370001000000000\",\n",
    "                \"expiration_month\": \"04\",\n",
    "                \"expiration_year\": \"2025\",\n",
    "                \"cvv\": \"2511\",\n",
    "                \"email\": \"richard@piedpiper.com\",\n",
    "            }\n",
    "        },\n",
    "        \"issuer_decline_operation\": {\n",
    "            \"american_express\": {\n",
    "                \"card_number\": \"370002000000008\",\n",
    "                \"expiration_month\": \"05\",\n",
    "                \"expiration_year\": \"2025\",\n",
    "                \"cvv\": \"1810\",\n",
    "                \"email\": \"richard@piedpiper.com\",\n",
    "            }\n",
    "        },\n",
    "        \"invalid_card\": {\n",
    "            \"diners_club\": {\n",
    "                \"card_number\": \"36000000000008\",\n",
    "                \"expiration_month\": \"09\",\n",
    "                \"expiration_year\": \"2025\",\n",
    "                \"cvv\": \"683\",\n",
    "                \"email\": \"richard@piedpiper.com\",\n",
    "            }\n",
    "        },\n",
    "        \"processing_error\": {\n",
    "            \"diners_club\": {\n",
    "                \"card_number\": \"36000100000007\",\n",
    "                \"expiration_month\": \"12\",\n",
    "                \"expiration_year\": \"2025\",\n",
    "                \"cvv\": \"820\",\n",
    "                \"email\": \"richard@piedpiper.com\",\n",
    "            }\n",
    "        },\n",
    "        \"fraudulent\": {\n",
    "            \"diners_club\": {\n",
    "                \"card_number\": \"36000200000006\",\n",
    "                \"expiration_month\": \"01\",\n",
    "                \"expiration_year\": \"2025\",\n",
    "                \"cvv\": \"230\",\n",
    "                \"email\": \"richard@piedpiper.com\",\n",
    "            }\n",
    "        },\n",
    "    }\n",
    "\n",
    "    CHARGE = {\n",
    "        \"amount\": 1000,\n",
    "        \"capture\": False,\n",
    "        \"currency_code\": \"PEN\",\n",
    "        \"description\": \"Venta de prueba\",\n",
    "        \"email\": \"richard@piedpiper.com\",\n",
    "        \"installments\": 0,\n",
    "        \"source_id\": None,\n",
    "    }\n",
    "\n",
    "    REFUND = {\n",
    "        \"amount\": 100,\n",
    "        \"reason\": \"solicitud_comprador\",\n",
    "        \"charge_id\": None,\n",
    "    }\n",
    "\n",
    "    CUSTOMER = {\n",
    "        \"address\": \"Avenida Lima 123213\",\n",
    "        \"address_city\": \"LIMA\",\n",
    "        \"country_code\": \"PE\",\n",
    "        \"email\": None,\n",
    "        \"first_name\": \"Richard\",\n",
    "        \"last_name\": \"Piedpiper\",\n",
    "        \"phone_number\": \"+51998989789\",\n",
    "    }\n",
    "\n",
    "    PLAN = {\n",
    "        \"amount\": 1000,\n",
    "        \"currency_code\": \"PEN\",\n",
    "        \"interval\": \"dias\",\n",
    "        \"interval_count\": 2,\n",
    "        \"limit\": 10,\n",
    "        \"name\": None,\n",
    "        \"trial_days\": 30,\n",
    "    }\n",
    "\n",
    "    ORDER = {\n",
    "        \"amount\": 1000,\n",
    "        \"currency_code\": \"PEN\",\n",
    "        \"description\": \"Venta de prueba\",\n",
    "        \"order_number\": None,\n",
    "        \"client_details\": {\n",
    "            \"first_name\": \"Richard\",\n",
    "            \"last_name\": \"Piedpiper\",\n",
    "            \"email\": \"richard@piedpiper.com\",\n",
    "            \"phone_number\": \"+51998989789\",\n",
    "        },\n",
    "        \"expiration_date\": 1893474000,\n",
    "        \"confirm\": False,\n",
    "    }"
   ]
  },
  {
   "cell_type": "markdown",
   "id": "certified-healing",
   "metadata": {},
   "source": [
    "Una función que vamos a emplear es `display` para mostrar de manera legible las respuestas entregadas por Culqi en cada una de nuestras operaciones,"
   ]
  },
  {
   "cell_type": "code",
   "execution_count": 4,
   "id": "together-referral",
   "metadata": {},
   "outputs": [],
   "source": [
    "def display(data):\n",
    "    print(json.dumps(data, indent=4, ensure_ascii=False))"
   ]
  },
  {
   "cell_type": "markdown",
   "id": "changing-prospect",
   "metadata": {},
   "source": [
    "## Tokens"
   ]
  },
  {
   "cell_type": "markdown",
   "id": "separated-optimum",
   "metadata": {},
   "source": [
    "Consulta la documentación de Culqi en [`https://apidocs.culqi.com/#/tokens`](https://apidocs.culqi.com/#/tokens)"
   ]
  },
  {
   "cell_type": "code",
   "execution_count": 5,
   "id": "absolute-formation",
   "metadata": {},
   "outputs": [],
   "source": [
    "def get_token_data(code, provider):\n",
    "    return deepcopy(Data.CARD[code][provider])"
   ]
  },
  {
   "cell_type": "markdown",
   "id": "traditional-fusion",
   "metadata": {},
   "source": [
    "### Listar"
   ]
  },
  {
   "cell_type": "code",
   "execution_count": 6,
   "id": "legal-importance",
   "metadata": {
    "tags": []
   },
   "outputs": [
    {
     "name": "stdout",
     "output_type": "stream",
     "text": [
      "{\n",
      "    \"status\": 200,\n",
      "    \"data\": {\n",
      "        \"paging\": {\n",
      "            \"previous\": \"https://api.culqi.com/v2/tokens?limit=1&before=tkn_test_CcP3ZegM0zlVNuQv\",\n",
      "            \"next\": \"https://api.culqi.com/v2/tokens?limit=1&after=tkn_test_CcP3ZegM0zlVNuQv\",\n",
      "            \"cursors\": {\n",
      "                \"before\": \"tkn_test_CcP3ZegM0zlVNuQv\",\n",
      "                \"after\": \"tkn_test_CcP3ZegM0zlVNuQv\"\n",
      "            },\n",
      "            \"remaining_items\": 0\n",
      "        },\n",
      "        \"items\": [\n",
      "            {\n",
      "                \"object\": \"token\",\n",
      "                \"id\": \"tkn_test_CcP3ZegM0zlVNuQv\",\n",
      "                \"type\": \"card\",\n",
      "                \"creation_date\": 1615131583000,\n",
      "                \"email\": \"richard0b7f@piedpiper.com\",\n",
      "                \"card_number\": \"360001****0007\",\n",
      "                \"last_four\": \"0007\",\n",
      "                \"active\": true,\n",
      "                \"iin\": {\n",
      "                    \"object\": \"iin\",\n",
      "                    \"bin\": \"360001\",\n",
      "                    \"card_brand\": \"Diners\",\n",
      "                    \"card_type\": \"credito\",\n",
      "                    \"card_category\": null,\n",
      "                    \"issuer\": {\n",
      "                        \"name\": \"\",\n",
      "                        \"country\": \"PERU\",\n",
      "                        \"country_code\": \"PE\",\n",
      "                        \"website\": null,\n",
      "                        \"phone_number\": null\n",
      "                    },\n",
      "                    \"installments_allowed\": []\n",
      "                },\n",
      "                \"client\": {\n",
      "                    \"ip\": \"191.98.182.73\",\n",
      "                    \"ip_country\": \"Peru\",\n",
      "                    \"ip_country_code\": \"PE\",\n",
      "                    \"browser\": \"UNKNOWN\",\n",
      "                    \"device_fingerprint\": null,\n",
      "                    \"device_type\": \"Escritorio\"\n",
      "                },\n",
      "                \"metadata\": {}\n",
      "            }\n",
      "        ]\n",
      "    }\n",
      "}\n"
     ]
    }
   ],
   "source": [
    "token_list = culqi.token.list(\n",
    "    data={\n",
    "        \"limit\": 1,\n",
    "    },\n",
    "    headers={\n",
    "        \"Accept-Encoding\": \"identity\",\n",
    "    }\n",
    ")\n",
    "\n",
    "display(token_list)"
   ]
  },
  {
   "cell_type": "markdown",
   "id": "governmental-civilization",
   "metadata": {},
   "source": [
    "### Crear"
   ]
  },
  {
   "cell_type": "code",
   "execution_count": 7,
   "id": "productive-joshua",
   "metadata": {
    "tags": []
   },
   "outputs": [
    {
     "name": "stdout",
     "output_type": "stream",
     "text": [
      "{\n",
      "    \"status\": 201,\n",
      "    \"data\": {\n",
      "        \"object\": \"token\",\n",
      "        \"id\": \"tkn_test_qW2ETydmZ8CmKZQE\",\n",
      "        \"type\": \"card\",\n",
      "        \"creation_date\": 1615131587000,\n",
      "        \"email\": \"richard@piedpiper.com\",\n",
      "        \"card_number\": \"411111******1111\",\n",
      "        \"last_four\": \"1111\",\n",
      "        \"active\": true,\n",
      "        \"iin\": {\n",
      "            \"object\": \"iin\",\n",
      "            \"bin\": \"411111\",\n",
      "            \"card_brand\": \"Visa\",\n",
      "            \"card_type\": \"credito\",\n",
      "            \"card_category\": \"Clásica\",\n",
      "            \"issuer\": {\n",
      "                \"name\": \"BBVA\",\n",
      "                \"country\": \"PERU\",\n",
      "                \"country_code\": \"PE\",\n",
      "                \"website\": null,\n",
      "                \"phone_number\": null\n",
      "            },\n",
      "            \"installments_allowed\": [\n",
      "                2,\n",
      "                4,\n",
      "                6,\n",
      "                8,\n",
      "                10,\n",
      "                12,\n",
      "                3,\n",
      "                5,\n",
      "                7,\n",
      "                9,\n",
      "                24,\n",
      "                48\n",
      "            ]\n",
      "        },\n",
      "        \"client\": {\n",
      "            \"ip\": \"191.98.182.73\",\n",
      "            \"ip_country\": \"Peru\",\n",
      "            \"ip_country_code\": \"PE\",\n",
      "            \"browser\": \"UNKNOWN\",\n",
      "            \"device_fingerprint\": null,\n",
      "            \"device_type\": \"Escritorio\"\n",
      "        },\n",
      "        \"metadata\": {}\n",
      "    }\n",
      "}\n"
     ]
    }
   ],
   "source": [
    "token_data = get_token_data(\"successful\", \"visa\")\n",
    "token = culqi.token.create(data=token_data)\n",
    "\n",
    "display(token)"
   ]
  },
  {
   "cell_type": "markdown",
   "id": "sporting-silicon",
   "metadata": {},
   "source": [
    "### Leer"
   ]
  },
  {
   "cell_type": "code",
   "execution_count": 8,
   "id": "bound-exclusive",
   "metadata": {
    "tags": []
   },
   "outputs": [
    {
     "name": "stdout",
     "output_type": "stream",
     "text": [
      "{\n",
      "    \"status\": 200,\n",
      "    \"data\": {\n",
      "        \"object\": \"token\",\n",
      "        \"id\": \"tkn_test_qW2ETydmZ8CmKZQE\",\n",
      "        \"type\": \"card\",\n",
      "        \"creation_date\": 1615131587000,\n",
      "        \"email\": \"richard@piedpiper.com\",\n",
      "        \"card_number\": \"411111******1111\",\n",
      "        \"last_four\": \"1111\",\n",
      "        \"active\": true,\n",
      "        \"iin\": {\n",
      "            \"object\": \"iin\",\n",
      "            \"bin\": \"411111\",\n",
      "            \"card_brand\": \"Visa\",\n",
      "            \"card_type\": \"credito\",\n",
      "            \"card_category\": \"Clásica\",\n",
      "            \"issuer\": {\n",
      "                \"name\": \"BBVA\",\n",
      "                \"country\": \"PERU\",\n",
      "                \"country_code\": \"PE\",\n",
      "                \"website\": null,\n",
      "                \"phone_number\": null\n",
      "            },\n",
      "            \"installments_allowed\": [\n",
      "                2,\n",
      "                4,\n",
      "                6,\n",
      "                8,\n",
      "                10,\n",
      "                12,\n",
      "                3,\n",
      "                5,\n",
      "                7,\n",
      "                9,\n",
      "                24,\n",
      "                48\n",
      "            ]\n",
      "        },\n",
      "        \"client\": {\n",
      "            \"ip\": \"191.98.182.73\",\n",
      "            \"ip_country\": \"Peru\",\n",
      "            \"ip_country_code\": \"PE\",\n",
      "            \"browser\": \"UNKNOWN\",\n",
      "            \"device_fingerprint\": null,\n",
      "            \"device_type\": \"Escritorio\"\n",
      "        },\n",
      "        \"metadata\": {}\n",
      "    }\n",
      "}\n"
     ]
    }
   ],
   "source": [
    "token_id = token[\"data\"][\"id\"]\n",
    "token = culqi.token.read(id_=token_id)\n",
    "\n",
    "display(token)"
   ]
  },
  {
   "cell_type": "markdown",
   "id": "competent-sunset",
   "metadata": {},
   "source": [
    "### Actualizar"
   ]
  },
  {
   "cell_type": "code",
   "execution_count": 9,
   "id": "million-checkout",
   "metadata": {
    "tags": []
   },
   "outputs": [
    {
     "name": "stdout",
     "output_type": "stream",
     "text": [
      "{\n",
      "    \"status\": 200,\n",
      "    \"data\": {\n",
      "        \"object\": \"token\",\n",
      "        \"id\": \"tkn_test_qW2ETydmZ8CmKZQE\",\n",
      "        \"type\": \"card\",\n",
      "        \"creation_date\": 1615131587000,\n",
      "        \"email\": \"richard@piedpiper.com\",\n",
      "        \"card_number\": \"411111******1111\",\n",
      "        \"last_four\": \"1111\",\n",
      "        \"active\": true,\n",
      "        \"iin\": {\n",
      "            \"object\": \"iin\",\n",
      "            \"bin\": \"411111\",\n",
      "            \"card_brand\": \"Visa\",\n",
      "            \"card_type\": \"credito\",\n",
      "            \"card_category\": \"Clásica\",\n",
      "            \"issuer\": {\n",
      "                \"name\": \"BBVA\",\n",
      "                \"country\": \"PERU\",\n",
      "                \"country_code\": \"PE\",\n",
      "                \"website\": null,\n",
      "                \"phone_number\": null\n",
      "            },\n",
      "            \"installments_allowed\": [\n",
      "                2,\n",
      "                4,\n",
      "                6,\n",
      "                8,\n",
      "                10,\n",
      "                12,\n",
      "                3,\n",
      "                5,\n",
      "                7,\n",
      "                9,\n",
      "                24,\n",
      "                48\n",
      "            ]\n",
      "        },\n",
      "        \"client\": {\n",
      "            \"ip\": \"191.98.182.73\",\n",
      "            \"ip_country\": \"Peru\",\n",
      "            \"ip_country_code\": \"PE\",\n",
      "            \"browser\": \"UNKNOWN\",\n",
      "            \"device_fingerprint\": null,\n",
      "            \"device_type\": \"Escritorio\"\n",
      "        },\n",
      "        \"metadata\": {\n",
      "            \"orderId\": \"1234567890\"\n",
      "        }\n",
      "    }\n",
      "}\n"
     ]
    }
   ],
   "source": [
    "token_id = token[\"data\"][\"id\"]\n",
    "token_metadata = {\n",
    "    \"metadata\": {\n",
    "        \"orderId\": \"1234567890\"\n",
    "    }\n",
    "}\n",
    "token = culqi.token.update(id_=token_id, data=token_metadata)\n",
    "\n",
    "display(token)"
   ]
  },
  {
   "cell_type": "markdown",
   "id": "union-puzzle",
   "metadata": {},
   "source": [
    "## Cargos"
   ]
  },
  {
   "cell_type": "markdown",
   "id": "surrounded-coverage",
   "metadata": {},
   "source": [
    "Consulta la documentación de Culqi en [`https://apidocs.culqi.com/#/cargos`](https://apidocs.culqi.com/#/cargos)"
   ]
  },
  {
   "cell_type": "code",
   "execution_count": 10,
   "id": "fantastic-purpose",
   "metadata": {},
   "outputs": [],
   "source": [
    "def get_charge_data(code, provider):\n",
    "    token_data = deepcopy(Data.CARD[code][provider])\n",
    "    token = culqi.token.create(data=token_data)\n",
    "\n",
    "    charge_data = deepcopy(Data.CHARGE)\n",
    "    charge_data[\"source_id\"] = token[\"data\"][\"id\"]\n",
    "    \n",
    "    return charge_data"
   ]
  },
  {
   "cell_type": "markdown",
   "id": "lucky-macro",
   "metadata": {},
   "source": [
    "### Listar"
   ]
  },
  {
   "cell_type": "code",
   "execution_count": 11,
   "id": "presidential-captain",
   "metadata": {
    "tags": []
   },
   "outputs": [
    {
     "name": "stdout",
     "output_type": "stream",
     "text": [
      "{\n",
      "    \"status\": 200,\n",
      "    \"data\": {\n",
      "        \"paging\": {\n",
      "            \"previous\": \"https://api.culqi.com/v2/charges?limit=1&before=chr_test_XC0vjjYHs9PKwqKj\",\n",
      "            \"next\": \"https://api.culqi.com/v2/charges?limit=1&after=chr_test_XC0vjjYHs9PKwqKj\",\n",
      "            \"cursors\": {\n",
      "                \"before\": \"chr_test_XC0vjjYHs9PKwqKj\",\n",
      "                \"after\": \"chr_test_XC0vjjYHs9PKwqKj\"\n",
      "            },\n",
      "            \"remaining_items\": 338\n",
      "        },\n",
      "        \"items\": [\n",
      "            {\n",
      "                \"duplicated\": null,\n",
      "                \"object\": \"charge\",\n",
      "                \"id\": \"chr_test_XC0vjjYHs9PKwqKj\",\n",
      "                \"creation_date\": 1615131590000,\n",
      "                \"amount\": 100,\n",
      "                \"amount_refunded\": 0,\n",
      "                \"current_amount\": 100,\n",
      "                \"installments\": 0,\n",
      "                \"installments_amount\": null,\n",
      "                \"currency_code\": \"PEN\",\n",
      "                \"email\": null,\n",
      "                \"description\": \"Validacion de tarjeta\",\n",
      "                \"source\": {\n",
      "                    \"object\": \"token\",\n",
      "                    \"id\": \"tkn_test_8SSSqy9swCHbfZ1F\",\n",
      "                    \"type\": \"card\",\n",
      "                    \"creation_date\": 1615131588000,\n",
      "                    \"email\": \"richardbfc3@piedpiper.com\",\n",
      "                    \"card_number\": \"400002******0000\",\n",
      "                    \"last_four\": \"0000\",\n",
      "                    \"active\": true,\n",
      "                    \"iin\": {\n",
      "                        \"object\": \"iin\",\n",
      "                        \"bin\": \"400002\",\n",
      "                        \"card_brand\": \"Visa\",\n",
      "                        \"card_type\": \"credito\",\n",
      "                        \"card_category\": null,\n",
      "                        \"issuer\": {\n",
      "                            \"name\": \"RIVER VALLEY C.U.\",\n",
      "                            \"country\": \"PERU\",\n",
      "                            \"country_code\": null,\n",
      "                            \"website\": null,\n",
      "                            \"phone_number\": null\n",
      "                        },\n",
      "                        \"installments_allowed\": null\n",
      "                    },\n",
      "                    \"client\": {\n",
      "                        \"ip\": \"191.98.182.73\",\n",
      "                        \"ip_country\": null,\n",
      "                        \"ip_country_code\": \"PE\",\n",
      "                        \"browser\": null,\n",
      "                        \"device_fingerprint\": null,\n",
      "                        \"device_type\": null\n",
      "                    },\n",
      "                    \"metadata\": {}\n",
      "                },\n",
      "                \"outcome\": {\n",
      "                    \"type\": \"card_error\",\n",
      "                    \"code\": \"card_declined\",\n",
      "                    \"decline_code\": \"stolen_card\",\n",
      "                    \"merchant_message\": \"Tarjeta robada. La tarjeta fue bloqueada y reportada al banco emisor como una tarjeta robada.\",\n",
      "                    \"user_message\": \"Su tarjeta está vencida. Verifica la fecha de vencimiento de tu tarjeta e ingrésalos correctamente. Si es denegada nuevamente, contáctate con el banco emisor de tu tarjeta.\"\n",
      "                },\n",
      "                \"fraud_score\": null,\n",
      "                \"antifraud_details\": {\n",
      "                    \"first_name\": \"Richard\",\n",
      "                    \"last_name\": \"Piedpiper\",\n",
      "                    \"address\": \"Avenida Lima 123213\",\n",
      "                    \"address_city\": \"LIMA\",\n",
      "                    \"country_code\": \"PE\",\n",
      "                    \"phone\": \"51998989789\",\n",
      "                    \"object\": \"client\"\n",
      "                },\n",
      "                \"dispute\": false,\n",
      "                \"capture\": null,\n",
      "                \"reference_code\": \"LxqYIoLTFG\",\n",
      "                \"authorization_code\": \"zdXUZU\",\n",
      "                \"metadata\": {},\n",
      "                \"total_fee\": null,\n",
      "                \"fee_details\": {\n",
      "                    \"fixed_fee\": null,\n",
      "                    \"variable_fee\": null\n",
      "                },\n",
      "                \"total_fee_taxes\": null,\n",
      "                \"transfer_amount\": null,\n",
      "                \"paid\": false,\n",
      "                \"statement_descriptor\": null,\n",
      "                \"transfer_id\": null,\n",
      "                \"operations\": [],\n",
      "                \"capture_date\": null\n",
      "            }\n",
      "        ]\n",
      "    }\n",
      "}\n"
     ]
    }
   ],
   "source": [
    "charge_list = culqi.charge.list(\n",
    "    data={\n",
    "        \"limit\": 1,\n",
    "    },\n",
    "    headers={\n",
    "        \"Accept-Encoding\": \"identity\",\n",
    "    },\n",
    ")\n",
    "\n",
    "display(charge_list)"
   ]
  },
  {
   "cell_type": "markdown",
   "id": "synthetic-organizer",
   "metadata": {},
   "source": [
    "### Crear"
   ]
  },
  {
   "cell_type": "code",
   "execution_count": 12,
   "id": "explicit-mexican",
   "metadata": {},
   "outputs": [
    {
     "name": "stdout",
     "output_type": "stream",
     "text": [
      "{\n",
      "    \"status\": 201,\n",
      "    \"data\": {\n",
      "        \"duplicated\": false,\n",
      "        \"object\": \"charge\",\n",
      "        \"id\": \"chr_test_M4efNkiZX9jszJQA\",\n",
      "        \"creation_date\": 1615131596000,\n",
      "        \"amount\": 1000,\n",
      "        \"amount_refunded\": 0,\n",
      "        \"current_amount\": 1000,\n",
      "        \"installments\": 1,\n",
      "        \"installments_amount\": 1000,\n",
      "        \"currency_code\": \"PEN\",\n",
      "        \"email\": \"richard@piedpiper.com\",\n",
      "        \"description\": \"Venta de prueba\",\n",
      "        \"source\": {\n",
      "            \"object\": \"token\",\n",
      "            \"id\": \"tkn_test_by2icDaZJGAAYY00\",\n",
      "            \"type\": \"card\",\n",
      "            \"creation_date\": 1615131594000,\n",
      "            \"email\": \"richard@piedpiper.com\",\n",
      "            \"card_number\": \"411111******1111\",\n",
      "            \"last_four\": \"1111\",\n",
      "            \"active\": true,\n",
      "            \"iin\": {\n",
      "                \"object\": \"iin\",\n",
      "                \"bin\": \"411111\",\n",
      "                \"card_brand\": \"Visa\",\n",
      "                \"card_type\": \"credito\",\n",
      "                \"card_category\": \"Clásica\",\n",
      "                \"issuer\": {\n",
      "                    \"name\": \"BBVA\",\n",
      "                    \"country\": \"PERU\",\n",
      "                    \"country_code\": \"PE\",\n",
      "                    \"website\": null,\n",
      "                    \"phone_number\": null\n",
      "                },\n",
      "                \"installments_allowed\": [\n",
      "                    2,\n",
      "                    4,\n",
      "                    6,\n",
      "                    8,\n",
      "                    10,\n",
      "                    12,\n",
      "                    3,\n",
      "                    5,\n",
      "                    7,\n",
      "                    9,\n",
      "                    24,\n",
      "                    48\n",
      "                ]\n",
      "            },\n",
      "            \"client\": {\n",
      "                \"ip\": \"191.98.182.73\",\n",
      "                \"ip_country\": \"Peru\",\n",
      "                \"ip_country_code\": \"PE\",\n",
      "                \"browser\": \"UNKNOWN\",\n",
      "                \"device_fingerprint\": null,\n",
      "                \"device_type\": \"Escritorio\"\n",
      "            },\n",
      "            \"metadata\": {}\n",
      "        },\n",
      "        \"outcome\": {\n",
      "            \"type\": \"venta_exitosa\",\n",
      "            \"code\": \"AUT0000\",\n",
      "            \"merchant_message\": \"La operación de venta ha sido autorizada exitosamente\",\n",
      "            \"user_message\": \"Su compra ha sido exitosa.\"\n",
      "        },\n",
      "        \"fraud_score\": 56.0,\n",
      "        \"dispute\": false,\n",
      "        \"capture\": false,\n",
      "        \"reference_code\": \"bYYXVQ7bfh\",\n",
      "        \"authorization_code\": \"qnXJW5\",\n",
      "        \"metadata\": {},\n",
      "        \"total_fee\": 47,\n",
      "        \"fee_details\": {\n",
      "            \"fixed_fee\": {},\n",
      "            \"variable_fee\": {\n",
      "                \"currency_code\": \"PEN\",\n",
      "                \"commision\": 0.0399,\n",
      "                \"total\": 40\n",
      "            }\n",
      "        },\n",
      "        \"total_fee_taxes\": 7,\n",
      "        \"transfer_amount\": 953,\n",
      "        \"paid\": false,\n",
      "        \"statement_descriptor\": \"CULQI*\",\n",
      "        \"transfer_id\": null,\n",
      "        \"capture_date\": null\n",
      "    }\n",
      "}\n"
     ]
    }
   ],
   "source": [
    "charge_data = get_charge_data(\"successful\", \"visa\")\n",
    "charge = culqi.charge.create(data=charge_data)\n",
    "\n",
    "display(charge)"
   ]
  },
  {
   "cell_type": "markdown",
   "id": "higher-sample",
   "metadata": {},
   "source": [
    "### Capturar"
   ]
  },
  {
   "cell_type": "code",
   "execution_count": 13,
   "id": "adjusted-builder",
   "metadata": {},
   "outputs": [
    {
     "name": "stdout",
     "output_type": "stream",
     "text": [
      "{\n",
      "    \"status\": 201,\n",
      "    \"data\": {\n",
      "        \"duplicated\": false,\n",
      "        \"object\": \"charge\",\n",
      "        \"id\": \"chr_test_M4efNkiZX9jszJQA\",\n",
      "        \"creation_date\": 1615131596000,\n",
      "        \"amount\": 1000,\n",
      "        \"amount_refunded\": 0,\n",
      "        \"current_amount\": 1000,\n",
      "        \"installments\": 1,\n",
      "        \"installments_amount\": 1000,\n",
      "        \"currency_code\": \"PEN\",\n",
      "        \"email\": \"richard@piedpiper.com\",\n",
      "        \"description\": \"Venta de prueba\",\n",
      "        \"source\": {\n",
      "            \"object\": \"token\",\n",
      "            \"id\": \"tkn_test_by2icDaZJGAAYY00\",\n",
      "            \"type\": \"card\",\n",
      "            \"creation_date\": 1615131594000,\n",
      "            \"email\": \"richard@piedpiper.com\",\n",
      "            \"card_number\": \"411111******1111\",\n",
      "            \"last_four\": \"1111\",\n",
      "            \"active\": true,\n",
      "            \"iin\": {\n",
      "                \"object\": \"iin\",\n",
      "                \"bin\": \"411111\",\n",
      "                \"card_brand\": \"Visa\",\n",
      "                \"card_type\": \"credito\",\n",
      "                \"card_category\": null,\n",
      "                \"issuer\": {\n",
      "                    \"name\": \"BBVA\",\n",
      "                    \"country\": \"PERU\",\n",
      "                    \"country_code\": null,\n",
      "                    \"website\": null,\n",
      "                    \"phone_number\": null\n",
      "                },\n",
      "                \"installments_allowed\": null\n",
      "            },\n",
      "            \"client\": {\n",
      "                \"ip\": \"191.98.182.73\",\n",
      "                \"ip_country\": null,\n",
      "                \"ip_country_code\": null,\n",
      "                \"browser\": null,\n",
      "                \"device_fingerprint\": null,\n",
      "                \"device_type\": null\n",
      "            },\n",
      "            \"metadata\": {}\n",
      "        },\n",
      "        \"outcome\": {\n",
      "            \"type\": \"venta_exitosa\",\n",
      "            \"code\": \"AUT0000\",\n",
      "            \"merchant_message\": \"La operación de venta ha sido autorizada exitosamente\",\n",
      "            \"user_message\": \"Su compra ha sido exitosa.\"\n",
      "        },\n",
      "        \"fraud_score\": 56.0,\n",
      "        \"dispute\": false,\n",
      "        \"capture\": true,\n",
      "        \"reference_code\": \"bYYXVQ7bfh\",\n",
      "        \"authorization_code\": \"qnXJW5\",\n",
      "        \"metadata\": {},\n",
      "        \"total_fee\": 47,\n",
      "        \"fee_details\": {\n",
      "            \"fixed_fee\": {},\n",
      "            \"variable_fee\": {\n",
      "                \"currency_code\": \"PEN\",\n",
      "                \"commision\": 0.0399,\n",
      "                \"total\": 40\n",
      "            }\n",
      "        },\n",
      "        \"total_fee_taxes\": 7,\n",
      "        \"transfer_amount\": 953,\n",
      "        \"paid\": false,\n",
      "        \"statement_descriptor\": \"CULQI*\",\n",
      "        \"transfer_id\": null,\n",
      "        \"operations\": [],\n",
      "        \"capture_date\": null\n",
      "    }\n",
      "}\n"
     ]
    }
   ],
   "source": [
    "charge_id = charge[\"data\"][\"id\"]\n",
    "captured_charge = culqi.charge.capture(id_=charge_id)\n",
    "\n",
    "display(captured_charge)"
   ]
  },
  {
   "cell_type": "markdown",
   "id": "later-integration",
   "metadata": {},
   "source": [
    "### Leer"
   ]
  },
  {
   "cell_type": "code",
   "execution_count": 14,
   "id": "historical-malawi",
   "metadata": {},
   "outputs": [
    {
     "name": "stdout",
     "output_type": "stream",
     "text": [
      "{\n",
      "    \"status\": 200,\n",
      "    \"data\": {\n",
      "        \"duplicated\": false,\n",
      "        \"object\": \"charge\",\n",
      "        \"id\": \"chr_test_M4efNkiZX9jszJQA\",\n",
      "        \"creation_date\": 1615131596000,\n",
      "        \"amount\": 1000,\n",
      "        \"amount_refunded\": 0,\n",
      "        \"current_amount\": 1000,\n",
      "        \"installments\": 1,\n",
      "        \"installments_amount\": 1000,\n",
      "        \"currency_code\": \"PEN\",\n",
      "        \"email\": \"richard@piedpiper.com\",\n",
      "        \"description\": \"Venta de prueba\",\n",
      "        \"source\": {\n",
      "            \"object\": \"token\",\n",
      "            \"id\": \"tkn_test_by2icDaZJGAAYY00\",\n",
      "            \"type\": \"card\",\n",
      "            \"creation_date\": 1615131594000,\n",
      "            \"email\": \"richard@piedpiper.com\",\n",
      "            \"card_number\": \"411111******1111\",\n",
      "            \"last_four\": \"1111\",\n",
      "            \"active\": true,\n",
      "            \"iin\": {\n",
      "                \"object\": \"iin\",\n",
      "                \"bin\": \"411111\",\n",
      "                \"card_brand\": \"Visa\",\n",
      "                \"card_type\": \"credito\",\n",
      "                \"card_category\": null,\n",
      "                \"issuer\": {\n",
      "                    \"name\": \"BBVA\",\n",
      "                    \"country\": \"PERU\",\n",
      "                    \"country_code\": null,\n",
      "                    \"website\": null,\n",
      "                    \"phone_number\": null\n",
      "                },\n",
      "                \"installments_allowed\": null\n",
      "            },\n",
      "            \"client\": {\n",
      "                \"ip\": \"191.98.182.73\",\n",
      "                \"ip_country\": null,\n",
      "                \"ip_country_code\": null,\n",
      "                \"browser\": null,\n",
      "                \"device_fingerprint\": null,\n",
      "                \"device_type\": null\n",
      "            },\n",
      "            \"metadata\": {}\n",
      "        },\n",
      "        \"outcome\": {\n",
      "            \"type\": \"venta_exitosa\",\n",
      "            \"code\": \"AUT0000\",\n",
      "            \"merchant_message\": \"La operación de venta ha sido autorizada exitosamente\",\n",
      "            \"user_message\": \"Su compra ha sido exitosa.\"\n",
      "        },\n",
      "        \"fraud_score\": 56.0,\n",
      "        \"dispute\": false,\n",
      "        \"capture\": true,\n",
      "        \"reference_code\": \"bYYXVQ7bfh\",\n",
      "        \"authorization_code\": \"qnXJW5\",\n",
      "        \"metadata\": {},\n",
      "        \"total_fee\": 47,\n",
      "        \"fee_details\": {\n",
      "            \"fixed_fee\": {},\n",
      "            \"variable_fee\": {\n",
      "                \"currency_code\": \"PEN\",\n",
      "                \"commision\": 0.0399,\n",
      "                \"total\": 40\n",
      "            }\n",
      "        },\n",
      "        \"total_fee_taxes\": 7,\n",
      "        \"transfer_amount\": 953,\n",
      "        \"paid\": false,\n",
      "        \"statement_descriptor\": \"CULQI*\",\n",
      "        \"transfer_id\": null,\n",
      "        \"operations\": [],\n",
      "        \"capture_date\": 1615131600000\n",
      "    }\n",
      "}\n"
     ]
    }
   ],
   "source": [
    "charge_id = captured_charge[\"data\"][\"id\"]\n",
    "charge = culqi.charge.read(id_=charge_id)\n",
    "\n",
    "display(charge)"
   ]
  },
  {
   "cell_type": "markdown",
   "id": "collaborative-theater",
   "metadata": {},
   "source": [
    "### Actualizar"
   ]
  },
  {
   "cell_type": "code",
   "execution_count": 15,
   "id": "opponent-return",
   "metadata": {},
   "outputs": [
    {
     "name": "stdout",
     "output_type": "stream",
     "text": [
      "{\n",
      "    \"status\": 200,\n",
      "    \"data\": {\n",
      "        \"duplicated\": false,\n",
      "        \"object\": \"charge\",\n",
      "        \"id\": \"chr_test_M4efNkiZX9jszJQA\",\n",
      "        \"creation_date\": 1615131596000,\n",
      "        \"amount\": 1000,\n",
      "        \"amount_refunded\": 0,\n",
      "        \"current_amount\": 1000,\n",
      "        \"installments\": 1,\n",
      "        \"installments_amount\": 1000,\n",
      "        \"currency_code\": \"PEN\",\n",
      "        \"email\": \"richard@piedpiper.com\",\n",
      "        \"description\": \"Venta de prueba\",\n",
      "        \"source\": {\n",
      "            \"object\": \"token\",\n",
      "            \"id\": \"tkn_test_by2icDaZJGAAYY00\",\n",
      "            \"type\": \"card\",\n",
      "            \"creation_date\": 1615131594000,\n",
      "            \"email\": \"richard@piedpiper.com\",\n",
      "            \"card_number\": \"411111******1111\",\n",
      "            \"last_four\": \"1111\",\n",
      "            \"active\": true,\n",
      "            \"iin\": {\n",
      "                \"object\": \"iin\",\n",
      "                \"bin\": \"411111\",\n",
      "                \"card_brand\": \"Visa\",\n",
      "                \"card_type\": \"credito\",\n",
      "                \"card_category\": \"Clásica\",\n",
      "                \"issuer\": {\n",
      "                    \"name\": \"BBVA\",\n",
      "                    \"country\": \"PERU\",\n",
      "                    \"country_code\": \"PE\",\n",
      "                    \"website\": null,\n",
      "                    \"phone_number\": null\n",
      "                },\n",
      "                \"installments_allowed\": [\n",
      "                    2,\n",
      "                    4,\n",
      "                    6,\n",
      "                    8,\n",
      "                    10,\n",
      "                    12,\n",
      "                    3,\n",
      "                    5,\n",
      "                    7,\n",
      "                    9,\n",
      "                    24,\n",
      "                    48\n",
      "                ]\n",
      "            },\n",
      "            \"client\": {\n",
      "                \"ip\": \"191.98.182.73\",\n",
      "                \"ip_country\": \"Peru\",\n",
      "                \"ip_country_code\": \"PE\",\n",
      "                \"browser\": \"UNKNOWN\",\n",
      "                \"device_fingerprint\": null,\n",
      "                \"device_type\": \"Escritorio\"\n",
      "            },\n",
      "            \"metadata\": {}\n",
      "        },\n",
      "        \"outcome\": {\n",
      "            \"type\": \"venta_exitosa\",\n",
      "            \"code\": \"AUT0000\",\n",
      "            \"merchant_message\": \"La operación de venta ha sido autorizada exitosamente\",\n",
      "            \"user_message\": \"Su compra ha sido exitosa.\"\n",
      "        },\n",
      "        \"fraud_score\": 56.0,\n",
      "        \"dispute\": false,\n",
      "        \"capture\": true,\n",
      "        \"reference_code\": \"bYYXVQ7bfh\",\n",
      "        \"authorization_code\": \"qnXJW5\",\n",
      "        \"metadata\": {\n",
      "            \"orderId\": \"1234567890\"\n",
      "        },\n",
      "        \"total_fee\": 47,\n",
      "        \"fee_details\": {\n",
      "            \"fixed_fee\": {},\n",
      "            \"variable_fee\": {\n",
      "                \"currency_code\": \"PEN\",\n",
      "                \"commision\": 0.0399,\n",
      "                \"total\": 40\n",
      "            }\n",
      "        },\n",
      "        \"total_fee_taxes\": 7,\n",
      "        \"transfer_amount\": 953,\n",
      "        \"paid\": false,\n",
      "        \"statement_descriptor\": \"CULQI*\",\n",
      "        \"transfer_id\": null,\n",
      "        \"capture_date\": 1615131600000\n",
      "    }\n",
      "}\n"
     ]
    }
   ],
   "source": [
    "charge_id = charge[\"data\"][\"id\"]\n",
    "charge_metadata = {\n",
    "    \"metadata\": {\n",
    "        \"orderId\": 1234567890\n",
    "    }\n",
    "}\n",
    "charge = culqi.charge.update(id_=charge_id, data=charge_metadata)\n",
    "\n",
    "display(charge)"
   ]
  },
  {
   "cell_type": "markdown",
   "id": "exciting-investor",
   "metadata": {},
   "source": [
    "## Devoluciones"
   ]
  },
  {
   "cell_type": "markdown",
   "id": "active-ready",
   "metadata": {},
   "source": [
    "Consulta la documentación de Culqi en [`https://apidocs.culqi.com/#/devoluciones`](https://apidocs.culqi.com/#/devoluciones)"
   ]
  },
  {
   "cell_type": "code",
   "execution_count": 16,
   "id": "tropical-textbook",
   "metadata": {},
   "outputs": [],
   "source": [
    "def get_refund_data(kind, provider):\n",
    "    token_data = deepcopy(Data.CARD[kind][provider])\n",
    "    token = culqi.token.create(data=token_data)\n",
    "\n",
    "    charge_data = deepcopy(Data.CHARGE)\n",
    "    charge_data[\"source_id\"] = token[\"data\"][\"id\"]\n",
    "    charge = culqi.charge.create(data=charge_data)\n",
    "\n",
    "    refund_data = deepcopy(Data.REFUND)\n",
    "    refund_data[\"charge_id\"] = charge[\"data\"][\"id\"]\n",
    "    \n",
    "    return refund_data"
   ]
  },
  {
   "cell_type": "markdown",
   "id": "searching-watch",
   "metadata": {},
   "source": [
    "### Listar"
   ]
  },
  {
   "cell_type": "code",
   "execution_count": 17,
   "id": "interstate-guest",
   "metadata": {
    "tags": []
   },
   "outputs": [
    {
     "name": "stdout",
     "output_type": "stream",
     "text": [
      "{\n",
      "    \"status\": 200,\n",
      "    \"data\": {\n",
      "        \"paging\": {\n",
      "            \"previous\": \"https://api.culqi.com/v2/refunds?limit=1&before=ref_test_NIKAx4LD0hRx8tv3\",\n",
      "            \"next\": \"https://api.culqi.com/v2/refunds?limit=1&after=ref_test_NIKAx4LD0hRx8tv3\",\n",
      "            \"cursors\": {\n",
      "                \"before\": \"ref_test_NIKAx4LD0hRx8tv3\",\n",
      "                \"after\": \"ref_test_NIKAx4LD0hRx8tv3\"\n",
      "            },\n",
      "            \"remaining_items\": null\n",
      "        },\n",
      "        \"items\": [\n",
      "            {\n",
      "                \"object\": \"refund\",\n",
      "                \"id\": \"ref_test_NIKAx4LD0hRx8tv3\",\n",
      "                \"charge_id\": \"chr_test_pmmqoIHBNpxTPLQk\",\n",
      "                \"creation_date\": 1615131607000,\n",
      "                \"amount\": 100,\n",
      "                \"reason\": \"Devolución solicitada por el comercio\",\n",
      "                \"metadata\": {}\n",
      "            }\n",
      "        ]\n",
      "    }\n",
      "}\n"
     ]
    }
   ],
   "source": [
    "refund_list = culqi.refund.list(\n",
    "    data={\n",
    "        \"limit\": 1,\n",
    "    },\n",
    "    headers={\n",
    "        \"Accept-Encoding\": \"identity\",\n",
    "    },\n",
    ")\n",
    "\n",
    "display(refund_list)"
   ]
  },
  {
   "cell_type": "markdown",
   "id": "swiss-secondary",
   "metadata": {},
   "source": [
    "### Crear"
   ]
  },
  {
   "cell_type": "code",
   "execution_count": 18,
   "id": "fewer-prince",
   "metadata": {},
   "outputs": [
    {
     "name": "stdout",
     "output_type": "stream",
     "text": [
      "{\n",
      "    \"status\": 201,\n",
      "    \"data\": {\n",
      "        \"object\": \"refund\",\n",
      "        \"id\": \"ref_test_Bot8onvJGFK2D0zX\",\n",
      "        \"charge_id\": \"chr_test_sT8485Ik7QBskbvl\",\n",
      "        \"creation_date\": 1615131614000,\n",
      "        \"amount\": 100,\n",
      "        \"reason\": \"Devolución solicitada por el comercio\",\n",
      "        \"metadata\": {}\n",
      "    }\n",
      "}\n"
     ]
    }
   ],
   "source": [
    "refund_data = get_refund_data(\"successful\", \"visa\")\n",
    "refund = culqi.refund.create(data=refund_data)\n",
    "\n",
    "display(refund)"
   ]
  },
  {
   "cell_type": "markdown",
   "id": "instant-perry",
   "metadata": {},
   "source": [
    "### Leer"
   ]
  },
  {
   "cell_type": "code",
   "execution_count": 19,
   "id": "unavailable-navigation",
   "metadata": {},
   "outputs": [
    {
     "name": "stdout",
     "output_type": "stream",
     "text": [
      "{\n",
      "    \"status\": 200,\n",
      "    \"data\": {\n",
      "        \"object\": \"refund\",\n",
      "        \"id\": \"ref_test_Bot8onvJGFK2D0zX\",\n",
      "        \"charge_id\": \"chr_test_sT8485Ik7QBskbvl\",\n",
      "        \"creation_date\": 1615131614000,\n",
      "        \"amount\": 100,\n",
      "        \"reason\": \"Devolución solicitada por el comercio\",\n",
      "        \"metadata\": {}\n",
      "    }\n",
      "}\n"
     ]
    }
   ],
   "source": [
    "refund_id = refund[\"data\"][\"id\"]\n",
    "refund = culqi.refund.read(id_=refund_id)\n",
    "\n",
    "display(refund)"
   ]
  },
  {
   "cell_type": "markdown",
   "id": "technological-stack",
   "metadata": {},
   "source": [
    "### Actualizar"
   ]
  },
  {
   "cell_type": "code",
   "execution_count": 20,
   "id": "chemical-horse",
   "metadata": {},
   "outputs": [
    {
     "name": "stdout",
     "output_type": "stream",
     "text": [
      "{\n",
      "    \"status\": 200,\n",
      "    \"data\": {\n",
      "        \"object\": \"refund\",\n",
      "        \"id\": \"ref_test_Bot8onvJGFK2D0zX\",\n",
      "        \"charge_id\": \"chr_test_sT8485Ik7QBskbvl\",\n",
      "        \"creation_date\": 1615131614000,\n",
      "        \"amount\": 100,\n",
      "        \"reason\": \"Devolución solicitada por el comercio\",\n",
      "        \"metadata\": {\n",
      "            \"orderId\": \"1234567890\"\n",
      "        }\n",
      "    }\n",
      "}\n"
     ]
    }
   ],
   "source": [
    "refund_id = refund[\"data\"][\"id\"]\n",
    "refund_metadata = {\n",
    "    \"metadata\": {\n",
    "        \"orderId\": 1234567890\n",
    "    }\n",
    "}\n",
    "refund = culqi.refund.update(id_=refund_id, data=refund_metadata)\n",
    "\n",
    "display(refund)"
   ]
  },
  {
   "cell_type": "markdown",
   "id": "juvenile-gnome",
   "metadata": {
    "tags": []
   },
   "source": [
    "## Clientes"
   ]
  },
  {
   "cell_type": "markdown",
   "id": "textile-microphone",
   "metadata": {},
   "source": [
    "Consulta la documentación de Culqi en [`https://apidocs.culqi.com/#/clientes`](https://apidocs.culqi.com/#/clientes)"
   ]
  },
  {
   "cell_type": "code",
   "execution_count": 21,
   "id": "eastern-physics",
   "metadata": {},
   "outputs": [],
   "source": [
    "def get_customer_data():\n",
    "    customer_data = deepcopy(Data.CUSTOMER)\n",
    "    customer_data[\"email\"] = \"richard{0}@piedpiper.com\".format(uuid4().hex[:4])\n",
    "    \n",
    "    return customer_data"
   ]
  },
  {
   "cell_type": "markdown",
   "id": "arctic-medicare",
   "metadata": {},
   "source": [
    "### Listar"
   ]
  },
  {
   "cell_type": "code",
   "execution_count": 22,
   "id": "usual-temperature",
   "metadata": {
    "tags": []
   },
   "outputs": [
    {
     "name": "stdout",
     "output_type": "stream",
     "text": [
      "{\n",
      "    \"status\": 200,\n",
      "    \"data\": {\n",
      "        \"paging\": {\n",
      "            \"previous\": \"https://api.culqi.com/v2/customers?limit=1&before=cus_test_f4l7UKPuYrORPvyP\",\n",
      "            \"next\": \"https://api.culqi.com/v2/customers?limit=1&after=cus_test_f4l7UKPuYrORPvyP\",\n",
      "            \"cursors\": {\n",
      "                \"before\": \"cus_test_f4l7UKPuYrORPvyP\",\n",
      "                \"after\": \"cus_test_f4l7UKPuYrORPvyP\"\n",
      "            },\n",
      "            \"remaining_items\": null\n",
      "        },\n",
      "        \"items\": [\n",
      "            {\n",
      "                \"object\": \"customer\",\n",
      "                \"id\": \"cus_test_f4l7UKPuYrORPvyP\",\n",
      "                \"creation_date\": 1615131609000,\n",
      "                \"email\": \"richard50be@piedpiper.com\",\n",
      "                \"antifraud_details\": {\n",
      "                    \"first_name\": \"Richard\",\n",
      "                    \"last_name\": \"Piedpiper\",\n",
      "                    \"address\": \"Avenida Lima 123213\",\n",
      "                    \"address_city\": \"LIMA\",\n",
      "                    \"country_code\": \"PE\",\n",
      "                    \"phone\": \"+51998989789\",\n",
      "                    \"object\": \"client\"\n",
      "                },\n",
      "                \"cards\": [\n",
      "                    {\n",
      "                        \"object\": \"card\",\n",
      "                        \"id\": \"crd_test_yAPm5rwlF3aTGVHa\",\n",
      "                        \"active\": true,\n",
      "                        \"creation_date\": 1615131614000,\n",
      "                        \"customer_id\": \"cus_test_f4l7UKPuYrORPvyP\",\n",
      "                        \"source\": {\n",
      "                            \"object\": \"token\",\n",
      "                            \"id\": \"tkn_test_mw7AQicjlOII6Y5u\",\n",
      "                            \"type\": \"card\",\n",
      "                            \"creation_date\": 1615131608000,\n",
      "                            \"email\": \"richard50be@piedpiper.com\",\n",
      "                            \"card_number\": \"511111******1118\",\n",
      "                            \"last_four\": \"1118\",\n",
      "                            \"active\": true,\n",
      "                            \"iin\": {\n",
      "                                \"object\": \"iin\",\n",
      "                                \"bin\": \"511111\",\n",
      "                                \"card_brand\": \"MasterCard\",\n",
      "                                \"card_type\": \"debito\",\n",
      "                                \"card_category\": \"Clásica\",\n",
      "                                \"issuer\": {\n",
      "                                    \"name\": \"INTERBANK\",\n",
      "                                    \"country\": \"PERU\",\n",
      "                                    \"country_code\": \"PE\",\n",
      "                                    \"website\": null,\n",
      "                                    \"phone_number\": null\n",
      "                                },\n",
      "                                \"installments_allowed\": [\n",
      "                                    24,\n",
      "                                    2,\n",
      "                                    3,\n",
      "                                    4,\n",
      "                                    5,\n",
      "                                    6,\n",
      "                                    7,\n",
      "                                    8,\n",
      "                                    9,\n",
      "                                    12,\n",
      "                                    48\n",
      "                                ]\n",
      "                            },\n",
      "                            \"client\": {\n",
      "                                \"ip\": \"191.98.182.73\",\n",
      "                                \"ip_country\": \"Peru\",\n",
      "                                \"ip_country_code\": \"PE\",\n",
      "                                \"browser\": \"UNKNOWN\",\n",
      "                                \"device_fingerprint\": null,\n",
      "                                \"device_type\": \"Escritorio\"\n",
      "                            },\n",
      "                            \"metadata\": {}\n",
      "                        },\n",
      "                        \"metadata\": {}\n",
      "                    }\n",
      "                ],\n",
      "                \"metadata\": {}\n",
      "            }\n",
      "        ]\n",
      "    }\n",
      "}\n"
     ]
    }
   ],
   "source": [
    "customer_list = culqi.customer.list(\n",
    "    data={\n",
    "        \"limit\": 1,\n",
    "    },\n",
    "    headers={\n",
    "        \"Accept-Encoding\": \"identity\",\n",
    "    },\n",
    ")\n",
    "\n",
    "display(customer_list)"
   ]
  },
  {
   "cell_type": "markdown",
   "id": "great-fruit",
   "metadata": {},
   "source": [
    "### Crear"
   ]
  },
  {
   "cell_type": "code",
   "execution_count": 23,
   "id": "overall-fraction",
   "metadata": {},
   "outputs": [
    {
     "name": "stdout",
     "output_type": "stream",
     "text": [
      "{\n",
      "    \"status\": 201,\n",
      "    \"data\": {\n",
      "        \"object\": \"customer\",\n",
      "        \"id\": \"cus_test_xHxfvWLS9lInzdqE\",\n",
      "        \"creation_date\": 1615131616908,\n",
      "        \"email\": \"richard8f52@piedpiper.com\",\n",
      "        \"antifraud_details\": {\n",
      "            \"first_name\": \"Richard\",\n",
      "            \"last_name\": \"Piedpiper\",\n",
      "            \"address\": \"Avenida Lima 123213\",\n",
      "            \"address_city\": \"LIMA\",\n",
      "            \"country_code\": \"PE\",\n",
      "            \"phone\": \"+51998989789\",\n",
      "            \"object\": \"client\"\n",
      "        },\n",
      "        \"metadata\": {}\n",
      "    }\n",
      "}\n"
     ]
    }
   ],
   "source": [
    "customer_data = get_customer_data()\n",
    "customer = culqi.customer.create(data=customer_data)\n",
    "\n",
    "display(customer)"
   ]
  },
  {
   "cell_type": "markdown",
   "id": "defined-doubt",
   "metadata": {},
   "source": [
    "### Leer"
   ]
  },
  {
   "cell_type": "code",
   "execution_count": 24,
   "id": "breeding-surveillance",
   "metadata": {},
   "outputs": [
    {
     "name": "stdout",
     "output_type": "stream",
     "text": [
      "{\n",
      "    \"status\": 200,\n",
      "    \"data\": {\n",
      "        \"object\": \"customer\",\n",
      "        \"id\": \"cus_test_xHxfvWLS9lInzdqE\",\n",
      "        \"creation_date\": 1615131616000,\n",
      "        \"email\": \"richard8f52@piedpiper.com\",\n",
      "        \"antifraud_details\": {\n",
      "            \"first_name\": \"Richard\",\n",
      "            \"last_name\": \"Piedpiper\",\n",
      "            \"address\": \"Avenida Lima 123213\",\n",
      "            \"address_city\": \"LIMA\",\n",
      "            \"country_code\": \"PE\",\n",
      "            \"phone\": \"+51998989789\",\n",
      "            \"object\": \"client\"\n",
      "        },\n",
      "        \"cards\": [],\n",
      "        \"metadata\": {}\n",
      "    }\n",
      "}\n"
     ]
    }
   ],
   "source": [
    "customer_id = customer[\"data\"][\"id\"]\n",
    "customer = culqi.customer.read(id_=customer_id)\n",
    "\n",
    "display(customer)"
   ]
  },
  {
   "cell_type": "markdown",
   "id": "intensive-beijing",
   "metadata": {},
   "source": [
    "### Actualizar"
   ]
  },
  {
   "cell_type": "code",
   "execution_count": 25,
   "id": "other-reach",
   "metadata": {},
   "outputs": [
    {
     "name": "stdout",
     "output_type": "stream",
     "text": [
      "{\n",
      "    \"status\": 200,\n",
      "    \"data\": {\n",
      "        \"object\": \"customer\",\n",
      "        \"id\": \"cus_test_xHxfvWLS9lInzdqE\",\n",
      "        \"creation_date\": 1615131616000,\n",
      "        \"email\": \"richard8f52@piedpiper.com\",\n",
      "        \"antifraud_details\": {\n",
      "            \"first_name\": \"Richard\",\n",
      "            \"last_name\": \"Piedpiper\",\n",
      "            \"address\": \"Avenida Lima 123213\",\n",
      "            \"address_city\": \"LIMA\",\n",
      "            \"country_code\": \"PE\",\n",
      "            \"phone\": \"+51998989789\",\n",
      "            \"object\": \"client\"\n",
      "        },\n",
      "        \"metadata\": {\n",
      "            \"orderId\": \"1234567890\"\n",
      "        }\n",
      "    }\n",
      "}\n"
     ]
    }
   ],
   "source": [
    "customer_id = customer[\"data\"][\"id\"]\n",
    "customer_metadata = {\n",
    "    \"metadata\": {\n",
    "        \"orderId\": 1234567890\n",
    "    }\n",
    "}\n",
    "customer = culqi.customer.update(\n",
    "    id_=customer_id, data=customer_metadata\n",
    ")\n",
    "\n",
    "display(customer)"
   ]
  },
  {
   "cell_type": "markdown",
   "id": "gross-arlington",
   "metadata": {},
   "source": [
    "### Eliminar"
   ]
  },
  {
   "cell_type": "code",
   "execution_count": 26,
   "id": "cellular-force",
   "metadata": {},
   "outputs": [
    {
     "name": "stdout",
     "output_type": "stream",
     "text": [
      "{\n",
      "    \"status\": 200,\n",
      "    \"data\": {\n",
      "        \"id\": \"cus_test_xHxfvWLS9lInzdqE\",\n",
      "        \"deleted\": true,\n",
      "        \"merchant_message\": \"Se eliminó el cliente con ID cus_test_xHxfvWLS9lInzdqE exitosamente.\"\n",
      "    }\n",
      "}\n"
     ]
    }
   ],
   "source": [
    "customer_id = customer[\"data\"][\"id\"]\n",
    "deleted_customer = culqi.customer.delete(id_=customer_id)\n",
    "\n",
    "display(deleted_customer)"
   ]
  },
  {
   "cell_type": "markdown",
   "id": "handmade-oregon",
   "metadata": {},
   "source": [
    "## Tarjetas"
   ]
  },
  {
   "cell_type": "markdown",
   "id": "electronic-vegetarian",
   "metadata": {},
   "source": [
    "Consulta la documentación de Culqi en [`https://apidocs.culqi.com/#/tarjetas`](https://apidocs.culqi.com/#/tarjetas)"
   ]
  },
  {
   "cell_type": "code",
   "execution_count": 27,
   "id": "divine-hardware",
   "metadata": {},
   "outputs": [],
   "source": [
    "def get_card_data(code, provider):\n",
    "    email = \"richard{0}@piedpiper.com\".format(uuid4().hex[:4])\n",
    "\n",
    "    token_data = deepcopy(Data.CARD[code][provider])\n",
    "    token_data[\"email\"] = email\n",
    "    token = culqi.token.create(data=token_data)\n",
    "\n",
    "    customer_data = deepcopy(Data.CUSTOMER)\n",
    "    customer_data[\"email\"] = email\n",
    "    customer = culqi.customer.create(data=customer_data)\n",
    "\n",
    "    return {\n",
    "        \"token_id\": token[\"data\"][\"id\"],\n",
    "        \"customer_id\": customer[\"data\"][\"id\"],\n",
    "    }"
   ]
  },
  {
   "cell_type": "markdown",
   "id": "starting-marshall",
   "metadata": {},
   "source": [
    "### Listar"
   ]
  },
  {
   "cell_type": "code",
   "execution_count": 28,
   "id": "tight-lover",
   "metadata": {
    "tags": []
   },
   "outputs": [
    {
     "name": "stdout",
     "output_type": "stream",
     "text": [
      "{\n",
      "    \"status\": 200,\n",
      "    \"data\": {\n",
      "        \"paging\": {\n",
      "            \"previous\": \"https://api.culqi.com/v2/cards?limit=1&before=crd_test_yAPm5rwlF3aTGVHa\",\n",
      "            \"next\": \"https://api.culqi.com/v2/cards?limit=1&after=crd_test_yAPm5rwlF3aTGVHa\",\n",
      "            \"cursors\": {\n",
      "                \"before\": \"crd_test_yAPm5rwlF3aTGVHa\",\n",
      "                \"after\": \"crd_test_yAPm5rwlF3aTGVHa\"\n",
      "            },\n",
      "            \"remaining_items\": 83\n",
      "        },\n",
      "        \"items\": [\n",
      "            {\n",
      "                \"object\": \"card\",\n",
      "                \"id\": \"crd_test_yAPm5rwlF3aTGVHa\",\n",
      "                \"active\": true,\n",
      "                \"creation_date\": 1615131614000,\n",
      "                \"customer_id\": \"cus_test_f4l7UKPuYrORPvyP\",\n",
      "                \"source\": {\n",
      "                    \"object\": \"token\",\n",
      "                    \"id\": \"tkn_test_mw7AQicjlOII6Y5u\",\n",
      "                    \"type\": \"card\",\n",
      "                    \"creation_date\": 1615131608000,\n",
      "                    \"email\": \"richard50be@piedpiper.com\",\n",
      "                    \"card_number\": \"511111******1118\",\n",
      "                    \"last_four\": \"1118\",\n",
      "                    \"active\": true,\n",
      "                    \"iin\": {\n",
      "                        \"object\": \"iin\",\n",
      "                        \"bin\": \"511111\",\n",
      "                        \"card_brand\": \"MasterCard\",\n",
      "                        \"card_type\": \"debito\",\n",
      "                        \"card_category\": \"Clásica\",\n",
      "                        \"issuer\": {\n",
      "                            \"name\": \"INTERBANK\",\n",
      "                            \"country\": \"PERU\",\n",
      "                            \"country_code\": \"PE\",\n",
      "                            \"website\": null,\n",
      "                            \"phone_number\": null\n",
      "                        },\n",
      "                        \"installments_allowed\": [\n",
      "                            24,\n",
      "                            2,\n",
      "                            3,\n",
      "                            4,\n",
      "                            5,\n",
      "                            6,\n",
      "                            7,\n",
      "                            8,\n",
      "                            9,\n",
      "                            12,\n",
      "                            48\n",
      "                        ]\n",
      "                    },\n",
      "                    \"client\": {\n",
      "                        \"ip\": \"191.98.182.73\",\n",
      "                        \"ip_country\": \"Peru\",\n",
      "                        \"ip_country_code\": \"PE\",\n",
      "                        \"browser\": \"UNKNOWN\",\n",
      "                        \"device_fingerprint\": null,\n",
      "                        \"device_type\": \"Escritorio\"\n",
      "                    },\n",
      "                    \"metadata\": {}\n",
      "                },\n",
      "                \"metadata\": {}\n",
      "            }\n",
      "        ]\n",
      "    }\n",
      "}\n"
     ]
    }
   ],
   "source": [
    "card_list = culqi.card.list(\n",
    "    data={\n",
    "        \"limit\": 1,\n",
    "    },\n",
    "    headers={\n",
    "        \"Accept-Encoding\": \"identity\",\n",
    "    },\n",
    ")\n",
    "\n",
    "display(card_list)"
   ]
  },
  {
   "cell_type": "markdown",
   "id": "wanted-climb",
   "metadata": {},
   "source": [
    "### Crear"
   ]
  },
  {
   "cell_type": "code",
   "execution_count": 29,
   "id": "limited-somalia",
   "metadata": {},
   "outputs": [
    {
     "name": "stdout",
     "output_type": "stream",
     "text": [
      "{\n",
      "    \"status\": 201,\n",
      "    \"data\": {\n",
      "        \"object\": \"card\",\n",
      "        \"id\": \"crd_test_3HS06nwaWNH7GJv9\",\n",
      "        \"active\": true,\n",
      "        \"creation_date\": 1615131630282,\n",
      "        \"customer_id\": \"cus_test_357GTykK2sAJymJB\",\n",
      "        \"source\": {\n",
      "            \"object\": \"token\",\n",
      "            \"id\": \"tkn_test_46FxFV1t3eF7anVP\",\n",
      "            \"type\": \"card\",\n",
      "            \"creation_date\": 1615131624000,\n",
      "            \"email\": \"richard0640@piedpiper.com\",\n",
      "            \"card_number\": \"411111******1111\",\n",
      "            \"last_four\": \"1111\",\n",
      "            \"active\": true,\n",
      "            \"iin\": {\n",
      "                \"object\": \"iin\",\n",
      "                \"bin\": \"411111\",\n",
      "                \"card_brand\": \"Visa\",\n",
      "                \"card_type\": \"credito\",\n",
      "                \"card_category\": \"Clásica\",\n",
      "                \"issuer\": {\n",
      "                    \"name\": \"BBVA\",\n",
      "                    \"country\": \"PERU\",\n",
      "                    \"country_code\": \"PE\",\n",
      "                    \"website\": null,\n",
      "                    \"phone_number\": null\n",
      "                },\n",
      "                \"installments_allowed\": [\n",
      "                    2,\n",
      "                    4,\n",
      "                    6,\n",
      "                    8,\n",
      "                    10,\n",
      "                    12,\n",
      "                    3,\n",
      "                    5,\n",
      "                    7,\n",
      "                    9,\n",
      "                    24,\n",
      "                    48\n",
      "                ]\n",
      "            },\n",
      "            \"client\": {\n",
      "                \"ip\": \"191.98.182.73\",\n",
      "                \"ip_country\": \"Peru\",\n",
      "                \"ip_country_code\": \"PE\",\n",
      "                \"browser\": \"UNKNOWN\",\n",
      "                \"device_fingerprint\": null,\n",
      "                \"device_type\": \"Escritorio\"\n",
      "            },\n",
      "            \"metadata\": {}\n",
      "        },\n",
      "        \"metadata\": {\n",
      "            \"ZDA\": true\n",
      "        }\n",
      "    }\n",
      "}\n"
     ]
    }
   ],
   "source": [
    "card_data = get_card_data(\"successful\", \"visa\")\n",
    "card = culqi.card.create(data=card_data)\n",
    "\n",
    "display(card)"
   ]
  },
  {
   "cell_type": "markdown",
   "id": "excess-talent",
   "metadata": {},
   "source": [
    "### Leer"
   ]
  },
  {
   "cell_type": "code",
   "execution_count": 30,
   "id": "gorgeous-timing",
   "metadata": {},
   "outputs": [
    {
     "name": "stdout",
     "output_type": "stream",
     "text": [
      "{\n",
      "    \"status\": 200,\n",
      "    \"data\": {\n",
      "        \"object\": \"card\",\n",
      "        \"id\": \"crd_test_3HS06nwaWNH7GJv9\",\n",
      "        \"active\": true,\n",
      "        \"creation_date\": 1615131630000,\n",
      "        \"customer_id\": \"cus_test_357GTykK2sAJymJB\",\n",
      "        \"source\": {\n",
      "            \"object\": \"token\",\n",
      "            \"id\": \"tkn_test_46FxFV1t3eF7anVP\",\n",
      "            \"type\": \"card\",\n",
      "            \"creation_date\": 1615131624000,\n",
      "            \"email\": \"richard0640@piedpiper.com\",\n",
      "            \"card_number\": \"411111******1111\",\n",
      "            \"last_four\": \"1111\",\n",
      "            \"active\": true,\n",
      "            \"iin\": {\n",
      "                \"object\": \"iin\",\n",
      "                \"bin\": \"411111\",\n",
      "                \"card_brand\": \"Visa\",\n",
      "                \"card_type\": \"credito\",\n",
      "                \"card_category\": \"Clásica\",\n",
      "                \"issuer\": {\n",
      "                    \"name\": \"BBVA\",\n",
      "                    \"country\": \"PERU\",\n",
      "                    \"country_code\": \"PE\",\n",
      "                    \"website\": null,\n",
      "                    \"phone_number\": null\n",
      "                },\n",
      "                \"installments_allowed\": [\n",
      "                    2,\n",
      "                    4,\n",
      "                    6,\n",
      "                    8,\n",
      "                    10,\n",
      "                    12,\n",
      "                    3,\n",
      "                    5,\n",
      "                    7,\n",
      "                    9,\n",
      "                    24,\n",
      "                    48\n",
      "                ]\n",
      "            },\n",
      "            \"client\": {\n",
      "                \"ip\": \"191.98.182.73\",\n",
      "                \"ip_country\": \"Peru\",\n",
      "                \"ip_country_code\": \"PE\",\n",
      "                \"browser\": \"UNKNOWN\",\n",
      "                \"device_fingerprint\": null,\n",
      "                \"device_type\": \"Escritorio\"\n",
      "            },\n",
      "            \"metadata\": {}\n",
      "        },\n",
      "        \"metadata\": {}\n",
      "    }\n",
      "}\n"
     ]
    }
   ],
   "source": [
    "card_id = card[\"data\"][\"id\"]\n",
    "card = culqi.card.read(id_=card_id)\n",
    "\n",
    "display(card)"
   ]
  },
  {
   "cell_type": "markdown",
   "id": "infrared-horizontal",
   "metadata": {},
   "source": [
    "### Actualizar"
   ]
  },
  {
   "cell_type": "code",
   "execution_count": 31,
   "id": "convertible-assurance",
   "metadata": {},
   "outputs": [
    {
     "name": "stdout",
     "output_type": "stream",
     "text": [
      "{\n",
      "    \"status\": 200,\n",
      "    \"data\": {\n",
      "        \"object\": \"card\",\n",
      "        \"id\": \"crd_test_3HS06nwaWNH7GJv9\",\n",
      "        \"active\": true,\n",
      "        \"creation_date\": 1615131630000,\n",
      "        \"customer_id\": \"cus_test_357GTykK2sAJymJB\",\n",
      "        \"source\": {\n",
      "            \"object\": \"token\",\n",
      "            \"id\": \"tkn_test_46FxFV1t3eF7anVP\",\n",
      "            \"type\": \"card\",\n",
      "            \"creation_date\": 1615131624000,\n",
      "            \"email\": \"richard0640@piedpiper.com\",\n",
      "            \"card_number\": \"411111******1111\",\n",
      "            \"last_four\": \"1111\",\n",
      "            \"active\": true,\n",
      "            \"iin\": {\n",
      "                \"object\": \"iin\",\n",
      "                \"bin\": \"411111\",\n",
      "                \"card_brand\": \"Visa\",\n",
      "                \"card_type\": \"credito\",\n",
      "                \"card_category\": \"Clásica\",\n",
      "                \"issuer\": {\n",
      "                    \"name\": \"BBVA\",\n",
      "                    \"country\": \"PERU\",\n",
      "                    \"country_code\": \"PE\",\n",
      "                    \"website\": null,\n",
      "                    \"phone_number\": null\n",
      "                },\n",
      "                \"installments_allowed\": [\n",
      "                    2,\n",
      "                    4,\n",
      "                    6,\n",
      "                    8,\n",
      "                    10,\n",
      "                    12,\n",
      "                    3,\n",
      "                    5,\n",
      "                    7,\n",
      "                    9,\n",
      "                    24,\n",
      "                    48\n",
      "                ]\n",
      "            },\n",
      "            \"client\": {\n",
      "                \"ip\": \"191.98.182.73\",\n",
      "                \"ip_country\": \"Peru\",\n",
      "                \"ip_country_code\": \"PE\",\n",
      "                \"browser\": \"UNKNOWN\",\n",
      "                \"device_fingerprint\": null,\n",
      "                \"device_type\": \"Escritorio\"\n",
      "            },\n",
      "            \"metadata\": {}\n",
      "        },\n",
      "        \"metadata\": {\n",
      "            \"orderId\": \"1234567890\"\n",
      "        }\n",
      "    }\n",
      "}\n"
     ]
    }
   ],
   "source": [
    "card_id = card[\"data\"][\"id\"]\n",
    "card_metadata = {\n",
    "    \"metadata\": {\n",
    "        \"orderId\": 1234567890\n",
    "    }\n",
    "}\n",
    "card = culqi.card.update(\n",
    "    id_=card_id, data=card_metadata\n",
    ")\n",
    "\n",
    "display(card)"
   ]
  },
  {
   "cell_type": "markdown",
   "id": "dietary-vegetarian",
   "metadata": {},
   "source": [
    "### Eliminar"
   ]
  },
  {
   "cell_type": "code",
   "execution_count": 32,
   "id": "painted-floating",
   "metadata": {},
   "outputs": [
    {
     "name": "stdout",
     "output_type": "stream",
     "text": [
      "{\n",
      "    \"status\": 200,\n",
      "    \"data\": {\n",
      "        \"id\": \"crd_test_3HS06nwaWNH7GJv9\",\n",
      "        \"deleted\": true,\n",
      "        \"merchant_message\": \"Se eliminó la tarjeta con ID crd_test_3HS06nwaWNH7GJv9 exitosamente.\"\n",
      "    }\n",
      "}\n"
     ]
    }
   ],
   "source": [
    "card_id = card[\"data\"][\"id\"]\n",
    "deleted_card = culqi.card.delete(id_=card_id)\n",
    "\n",
    "display(deleted_card)"
   ]
  },
  {
   "cell_type": "markdown",
   "id": "promotional-report",
   "metadata": {},
   "source": [
    "## Planes"
   ]
  },
  {
   "cell_type": "markdown",
   "id": "constant-oklahoma",
   "metadata": {},
   "source": [
    "Consulta la documentación de Culqi en [`https://apidocs.culqi.com/#/planes`](https://apidocs.culqi.com/#/planes)"
   ]
  },
  {
   "cell_type": "code",
   "execution_count": 33,
   "id": "marked-manchester",
   "metadata": {},
   "outputs": [],
   "source": [
    "def get_plan_data():\n",
    "    plan_data = deepcopy(Data.PLAN)\n",
    "    plan_data[\"name\"] = \"plan-{0}\".format(uuid4().hex[:4])\n",
    "\n",
    "    return plan_data"
   ]
  },
  {
   "cell_type": "markdown",
   "id": "palestinian-thanks",
   "metadata": {},
   "source": [
    "### Listar"
   ]
  },
  {
   "cell_type": "code",
   "execution_count": 34,
   "id": "wireless-reading",
   "metadata": {
    "tags": []
   },
   "outputs": [
    {
     "name": "stdout",
     "output_type": "stream",
     "text": [
      "{\n",
      "    \"status\": 200,\n",
      "    \"data\": {\n",
      "        \"paging\": {\n",
      "            \"previous\": \"https://api.culqi.com/v2/plans?limit=1&before=pln_test_QIFyiFRhv4wuhMxZ\",\n",
      "            \"next\": \"https://api.culqi.com/v2/plans?limit=1&after=pln_test_QIFyiFRhv4wuhMxZ\",\n",
      "            \"cursors\": {\n",
      "                \"before\": \"pln_test_QIFyiFRhv4wuhMxZ\",\n",
      "                \"after\": \"pln_test_QIFyiFRhv4wuhMxZ\"\n",
      "            },\n",
      "            \"remaining_items\": 51\n",
      "        },\n",
      "        \"items\": [\n",
      "            {\n",
      "                \"object\": \"plan\",\n",
      "                \"id\": \"pln_test_QIFyiFRhv4wuhMxZ\",\n",
      "                \"creation_date\": 1615129728000,\n",
      "                \"name\": \"plan-7274\",\n",
      "                \"amount\": 1000,\n",
      "                \"currency_code\": \"PEN\",\n",
      "                \"interval_count\": 2,\n",
      "                \"interval\": \"Días\",\n",
      "                \"limit\": 10,\n",
      "                \"trial_days\": 30,\n",
      "                \"total_subscriptions\": 1,\n",
      "                \"metadata\": {}\n",
      "            }\n",
      "        ]\n",
      "    }\n",
      "}\n"
     ]
    }
   ],
   "source": [
    "plan_list = culqi.plan.list(\n",
    "    data={\n",
    "        \"limit\": 1,\n",
    "    },\n",
    "    headers={\n",
    "        \"Accept-Encoding\": \"identity\",\n",
    "    },\n",
    ")\n",
    "\n",
    "display(plan_list)"
   ]
  },
  {
   "cell_type": "markdown",
   "id": "exact-costa",
   "metadata": {},
   "source": [
    "### Crear"
   ]
  },
  {
   "cell_type": "code",
   "execution_count": 35,
   "id": "hungarian-shore",
   "metadata": {
    "tags": []
   },
   "outputs": [
    {
     "name": "stdout",
     "output_type": "stream",
     "text": [
      "{\n",
      "    \"status\": 201,\n",
      "    \"data\": {\n",
      "        \"object\": \"plan\",\n",
      "        \"id\": \"pln_test_uXQck7r2kIOuPZL8\",\n",
      "        \"creation_date\": 1615131633000,\n",
      "        \"name\": \"plan-6b3f\",\n",
      "        \"amount\": 1000,\n",
      "        \"currency_code\": \"PEN\",\n",
      "        \"interval_count\": 2,\n",
      "        \"interval\": \"Días\",\n",
      "        \"limit\": 10,\n",
      "        \"trial_days\": 30,\n",
      "        \"total_subscriptions\": 0,\n",
      "        \"metadata\": {}\n",
      "    }\n",
      "}\n"
     ]
    }
   ],
   "source": [
    "plan_data = get_plan_data()\n",
    "plan = culqi.plan.create(data=plan_data)\n",
    "\n",
    "display(plan)"
   ]
  },
  {
   "cell_type": "markdown",
   "id": "opened-gates",
   "metadata": {},
   "source": [
    "### Leer"
   ]
  },
  {
   "cell_type": "code",
   "execution_count": 36,
   "id": "independent-socket",
   "metadata": {},
   "outputs": [
    {
     "name": "stdout",
     "output_type": "stream",
     "text": [
      "{\n",
      "    \"status\": 200,\n",
      "    \"data\": {\n",
      "        \"object\": \"plan\",\n",
      "        \"id\": \"pln_test_uXQck7r2kIOuPZL8\",\n",
      "        \"creation_date\": 1615131633000,\n",
      "        \"name\": \"plan-6b3f\",\n",
      "        \"amount\": 1000,\n",
      "        \"currency_code\": \"PEN\",\n",
      "        \"interval_count\": 2,\n",
      "        \"interval\": \"Días\",\n",
      "        \"limit\": 10,\n",
      "        \"trial_days\": 30,\n",
      "        \"total_subscriptions\": 0,\n",
      "        \"metadata\": {}\n",
      "    }\n",
      "}\n"
     ]
    }
   ],
   "source": [
    "plan_id = plan[\"data\"][\"id\"]\n",
    "plan = culqi.plan.read(id_=plan_id)\n",
    "\n",
    "display(plan)"
   ]
  },
  {
   "cell_type": "markdown",
   "id": "funky-sport",
   "metadata": {},
   "source": [
    "### Actualizar"
   ]
  },
  {
   "cell_type": "code",
   "execution_count": 37,
   "id": "known-notebook",
   "metadata": {},
   "outputs": [
    {
     "name": "stdout",
     "output_type": "stream",
     "text": [
      "{\n",
      "    \"status\": 200,\n",
      "    \"data\": {\n",
      "        \"object\": \"plan\",\n",
      "        \"id\": \"pln_test_uXQck7r2kIOuPZL8\",\n",
      "        \"creation_date\": 1615131633000,\n",
      "        \"name\": \"plan-6b3f\",\n",
      "        \"amount\": 1000,\n",
      "        \"currency_code\": \"PEN\",\n",
      "        \"interval_count\": 2,\n",
      "        \"interval\": \"Días\",\n",
      "        \"limit\": 10,\n",
      "        \"trial_days\": 30,\n",
      "        \"total_subscriptions\": 0,\n",
      "        \"metadata\": {\n",
      "            \"orderId\": \"1234567890\"\n",
      "        }\n",
      "    }\n",
      "}\n"
     ]
    }
   ],
   "source": [
    "plan_id = plan[\"data\"][\"id\"]\n",
    "plan_metadata = {\n",
    "    \"metadata\": {\n",
    "        \"orderId\": 1234567890\n",
    "    }\n",
    "}\n",
    "plan = culqi.plan.update(\n",
    "    id_=plan_id, data=plan_metadata\n",
    ")\n",
    "\n",
    "display(plan)"
   ]
  },
  {
   "cell_type": "markdown",
   "id": "dressed-tobacco",
   "metadata": {},
   "source": [
    "### Eliminar"
   ]
  },
  {
   "cell_type": "code",
   "execution_count": 38,
   "id": "pleased-aurora",
   "metadata": {},
   "outputs": [
    {
     "name": "stdout",
     "output_type": "stream",
     "text": [
      "{\n",
      "    \"status\": 200,\n",
      "    \"data\": {\n",
      "        \"id\": \"pln_test_uXQck7r2kIOuPZL8\",\n",
      "        \"deleted\": true,\n",
      "        \"merchant_message\": \"Se eliminó el plan con ID pln_test_uXQck7r2kIOuPZL8 exitosamente.\"\n",
      "    }\n",
      "}\n"
     ]
    }
   ],
   "source": [
    "plan_id = plan[\"data\"][\"id\"]\n",
    "deleted_plan = culqi.plan.delete(id_=plan_id)\n",
    "\n",
    "display(deleted_plan)"
   ]
  },
  {
   "cell_type": "markdown",
   "id": "eight-allocation",
   "metadata": {},
   "source": [
    "## Suscripciones"
   ]
  },
  {
   "cell_type": "markdown",
   "id": "exposed-virus",
   "metadata": {},
   "source": [
    "Consulta la documentación de Culqi en [`https://apidocs.culqi.com/#/suscripciones`](https://apidocs.culqi.com/#/suscripciones)"
   ]
  },
  {
   "cell_type": "code",
   "execution_count": 39,
   "id": "touched-basement",
   "metadata": {},
   "outputs": [],
   "source": [
    "def get_subscription_data(code, provider):\n",
    "    email = \"richard{0}@piedpiper.com\".format(uuid4().hex[:4])\n",
    "\n",
    "    token_data = deepcopy(Data.CARD[code][provider])\n",
    "    token_data[\"email\"] = email\n",
    "    token = culqi.token.create(data=token_data)\n",
    "\n",
    "    customer_data = deepcopy(Data.CUSTOMER)\n",
    "    customer_data[\"email\"] = email\n",
    "    customer = culqi.customer.create(data=customer_data)\n",
    "\n",
    "    card_data = {\n",
    "        \"token_id\": token[\"data\"][\"id\"],\n",
    "        \"customer_id\": customer[\"data\"][\"id\"],\n",
    "    }\n",
    "    card = culqi.card.create(data=card_data)\n",
    "\n",
    "    plan_data = deepcopy(Data.PLAN)\n",
    "    plan_data[\"name\"] = \"plan-{0}\".format(uuid4().hex[:4])\n",
    "    plan = culqi.plan.create(data=plan_data)\n",
    "\n",
    "    return {\n",
    "        \"card_id\": card[\"data\"][\"id\"],\n",
    "        \"plan_id\": plan[\"data\"][\"id\"],\n",
    "    }"
   ]
  },
  {
   "cell_type": "markdown",
   "id": "connected-motivation",
   "metadata": {},
   "source": [
    "### Listar"
   ]
  },
  {
   "cell_type": "code",
   "execution_count": 40,
   "id": "introductory-tolerance",
   "metadata": {
    "tags": []
   },
   "outputs": [
    {
     "name": "stdout",
     "output_type": "stream",
     "text": [
      "{\n",
      "    \"status\": 200,\n",
      "    \"data\": {\n",
      "        \"paging\": {\n",
      "            \"previous\": \"https://api.culqi.com/v2/subscriptions?limit=1&before=sub_test_utqKrxgouUh0IL76\",\n",
      "            \"next\": \"https://api.culqi.com/v2/subscriptions?limit=1&after=sub_test_utqKrxgouUh0IL76\",\n",
      "            \"cursors\": {\n",
      "                \"before\": \"sub_test_utqKrxgouUh0IL76\",\n",
      "                \"after\": \"sub_test_utqKrxgouUh0IL76\"\n",
      "            },\n",
      "            \"remaining_items\": 30\n",
      "        },\n",
      "        \"items\": [\n",
      "            {\n",
      "                \"object\": \"subscription\",\n",
      "                \"id\": \"sub_test_utqKrxgouUh0IL76\",\n",
      "                \"creation_date\": 1615129729000,\n",
      "                \"status\": \"Activa\",\n",
      "                \"current_period\": 0,\n",
      "                \"total_period\": 10,\n",
      "                \"current_period_start\": 1617685200000,\n",
      "                \"current_period_end\": 1617858000000,\n",
      "                \"cancel_at_period_end\": false,\n",
      "                \"cancel_at\": null,\n",
      "                \"ended_at\": 1619413200000,\n",
      "                \"next_billing_date\": 1617685200000,\n",
      "                \"trial_start\": 1615129729000,\n",
      "                \"trial_end\": 1617721729000,\n",
      "                \"charges\": [],\n",
      "                \"plan\": {\n",
      "                    \"object\": \"plan\",\n",
      "                    \"id\": \"pln_test_QIFyiFRhv4wuhMxZ\",\n",
      "                    \"creation_date\": 1615129728000,\n",
      "                    \"name\": \"plan-7274\",\n",
      "                    \"amount\": 1000,\n",
      "                    \"currency_code\": \"PEN\",\n",
      "                    \"interval_count\": 2,\n",
      "                    \"interval\": \"Días\",\n",
      "                    \"limit\": 10,\n",
      "                    \"trial_days\": 30,\n",
      "                    \"total_subscriptions\": 1,\n",
      "                    \"metadata\": {}\n",
      "                },\n",
      "                \"card\": {\n",
      "                    \"object\": \"card\",\n",
      "                    \"id\": \"crd_test_tiP6jsig6txtNlK9\",\n",
      "                    \"active\": true,\n",
      "                    \"creation_date\": 1615129727000,\n",
      "                    \"customer_id\": \"cus_test_atem3d4M6YsKrrW7\",\n",
      "                    \"source\": {\n",
      "                        \"object\": \"token\",\n",
      "                        \"id\": \"tkn_test_FCVsMz64M0YXU5R4\",\n",
      "                        \"type\": \"card\",\n",
      "                        \"creation_date\": 1615129722000,\n",
      "                        \"email\": \"richard8b67@piedpiper.com\",\n",
      "                        \"card_number\": \"411111******1111\",\n",
      "                        \"last_four\": \"1111\",\n",
      "                        \"active\": true,\n",
      "                        \"iin\": {\n",
      "                            \"object\": \"iin\",\n",
      "                            \"bin\": \"411111\",\n",
      "                            \"card_brand\": \"Visa\",\n",
      "                            \"card_type\": \"credito\",\n",
      "                            \"card_category\": \"Clásica\",\n",
      "                            \"issuer\": {\n",
      "                                \"name\": \"BBVA\",\n",
      "                                \"country\": \"PERU\",\n",
      "                                \"country_code\": \"PE\",\n",
      "                                \"website\": null,\n",
      "                                \"phone_number\": null\n",
      "                            },\n",
      "                            \"installments_allowed\": [\n",
      "                                2,\n",
      "                                4,\n",
      "                                6,\n",
      "                                8,\n",
      "                                10,\n",
      "                                12,\n",
      "                                3,\n",
      "                                5,\n",
      "                                7,\n",
      "                                9,\n",
      "                                24,\n",
      "                                48\n",
      "                            ]\n",
      "                        },\n",
      "                        \"client\": {\n",
      "                            \"ip\": \"191.98.182.73\",\n",
      "                            \"ip_country\": \"Peru\",\n",
      "                            \"ip_country_code\": \"PE\",\n",
      "                            \"browser\": \"UNKNOWN\",\n",
      "                            \"device_fingerprint\": null,\n",
      "                            \"device_type\": \"Escritorio\"\n",
      "                        },\n",
      "                        \"metadata\": {}\n",
      "                    },\n",
      "                    \"metadata\": {}\n",
      "                },\n",
      "                \"metadata\": {\n",
      "                    \"order_id\": \"0001\"\n",
      "                }\n",
      "            }\n",
      "        ]\n",
      "    }\n",
      "}\n"
     ]
    }
   ],
   "source": [
    "subscription_list = culqi.subscription.list(\n",
    "    data={\n",
    "        \"limit\": 1,\n",
    "    },\n",
    "    headers={\n",
    "        \"Accept-Encoding\": \"identity\",\n",
    "    },\n",
    ")\n",
    "\n",
    "display(subscription_list)"
   ]
  },
  {
   "cell_type": "markdown",
   "id": "baking-listening",
   "metadata": {},
   "source": [
    "### Crear"
   ]
  },
  {
   "cell_type": "code",
   "execution_count": 41,
   "id": "general-replacement",
   "metadata": {
    "tags": []
   },
   "outputs": [
    {
     "name": "stdout",
     "output_type": "stream",
     "text": [
      "{\n",
      "    \"status\": 201,\n",
      "    \"data\": {\n",
      "        \"object\": \"subscription\",\n",
      "        \"id\": \"sub_test_fcGyWEQTh83qcZyS\",\n",
      "        \"creation_date\": 1615131643000,\n",
      "        \"status\": \"Activa\",\n",
      "        \"current_period\": 0,\n",
      "        \"total_period\": 10,\n",
      "        \"current_period_start\": 1617685200000,\n",
      "        \"current_period_end\": 1617858000000,\n",
      "        \"cancel_at_period_end\": false,\n",
      "        \"cancel_at\": null,\n",
      "        \"ended_at\": 1619413200000,\n",
      "        \"next_billing_date\": 1617685200000,\n",
      "        \"trial_start\": 1615131643000,\n",
      "        \"trial_end\": 1617723643000,\n",
      "        \"charges\": [],\n",
      "        \"plan\": {\n",
      "            \"object\": \"plan\",\n",
      "            \"id\": \"pln_test_wPdNqlSBErDW9vbS\",\n",
      "            \"creation_date\": 1615131642000,\n",
      "            \"name\": \"plan-035c\",\n",
      "            \"amount\": 1000,\n",
      "            \"currency_code\": \"PEN\",\n",
      "            \"interval_count\": 2,\n",
      "            \"interval\": \"Días\",\n",
      "            \"limit\": 10,\n",
      "            \"trial_days\": 30,\n",
      "            \"total_subscriptions\": 1,\n",
      "            \"metadata\": {}\n",
      "        },\n",
      "        \"card\": {\n",
      "            \"object\": \"card\",\n",
      "            \"id\": \"crd_test_yjsrR87YeJ1lLwk5\",\n",
      "            \"active\": true,\n",
      "            \"creation_date\": 1615131642000,\n",
      "            \"customer_id\": \"cus_test_dPj41BFoNfZ1Uzjd\",\n",
      "            \"source\": {\n",
      "                \"object\": \"token\",\n",
      "                \"id\": \"tkn_test_JEGrRw0E6DwWwjwV\",\n",
      "                \"type\": \"card\",\n",
      "                \"creation_date\": 1615131637000,\n",
      "                \"email\": \"richard5f26@piedpiper.com\",\n",
      "                \"card_number\": \"411111******1111\",\n",
      "                \"last_four\": \"1111\",\n",
      "                \"active\": true,\n",
      "                \"iin\": {\n",
      "                    \"object\": \"iin\",\n",
      "                    \"bin\": \"411111\",\n",
      "                    \"card_brand\": \"Visa\",\n",
      "                    \"card_type\": \"credito\",\n",
      "                    \"card_category\": \"Clásica\",\n",
      "                    \"issuer\": {\n",
      "                        \"name\": \"BBVA\",\n",
      "                        \"country\": \"PERU\",\n",
      "                        \"country_code\": \"PE\",\n",
      "                        \"website\": null,\n",
      "                        \"phone_number\": null\n",
      "                    },\n",
      "                    \"installments_allowed\": [\n",
      "                        2,\n",
      "                        4,\n",
      "                        6,\n",
      "                        8,\n",
      "                        10,\n",
      "                        12,\n",
      "                        3,\n",
      "                        5,\n",
      "                        7,\n",
      "                        9,\n",
      "                        24,\n",
      "                        48\n",
      "                    ]\n",
      "                },\n",
      "                \"client\": {\n",
      "                    \"ip\": \"191.98.182.73\",\n",
      "                    \"ip_country\": \"Peru\",\n",
      "                    \"ip_country_code\": \"PE\",\n",
      "                    \"browser\": \"UNKNOWN\",\n",
      "                    \"device_fingerprint\": null,\n",
      "                    \"device_type\": \"Escritorio\"\n",
      "                },\n",
      "                \"metadata\": {}\n",
      "            },\n",
      "            \"metadata\": {}\n",
      "        },\n",
      "        \"metadata\": {}\n",
      "    }\n",
      "}\n"
     ]
    }
   ],
   "source": [
    "subscription_data = get_subscription_data(\"successful\", \"visa\")\n",
    "subscription = culqi.subscription.create(data=subscription_data)\n",
    "\n",
    "display(subscription)"
   ]
  },
  {
   "cell_type": "markdown",
   "id": "equipped-desktop",
   "metadata": {},
   "source": [
    "### Leer"
   ]
  },
  {
   "cell_type": "code",
   "execution_count": 42,
   "id": "regional-installation",
   "metadata": {
    "tags": []
   },
   "outputs": [
    {
     "name": "stdout",
     "output_type": "stream",
     "text": [
      "{\n",
      "    \"status\": 200,\n",
      "    \"data\": {\n",
      "        \"object\": \"subscription\",\n",
      "        \"id\": \"sub_test_fcGyWEQTh83qcZyS\",\n",
      "        \"creation_date\": 1615131643000,\n",
      "        \"status\": \"Activa\",\n",
      "        \"current_period\": 0,\n",
      "        \"total_period\": 10,\n",
      "        \"current_period_start\": 1617685200000,\n",
      "        \"current_period_end\": 1617858000000,\n",
      "        \"cancel_at_period_end\": false,\n",
      "        \"cancel_at\": null,\n",
      "        \"ended_at\": 1619413200000,\n",
      "        \"next_billing_date\": 1617685200000,\n",
      "        \"trial_start\": 1615131643000,\n",
      "        \"trial_end\": 1617723643000,\n",
      "        \"charges\": [],\n",
      "        \"plan\": {\n",
      "            \"object\": \"plan\",\n",
      "            \"id\": \"pln_test_wPdNqlSBErDW9vbS\",\n",
      "            \"creation_date\": 1615131642000,\n",
      "            \"name\": \"plan-035c\",\n",
      "            \"amount\": 1000,\n",
      "            \"currency_code\": \"PEN\",\n",
      "            \"interval_count\": 2,\n",
      "            \"interval\": \"Días\",\n",
      "            \"limit\": 10,\n",
      "            \"trial_days\": 30,\n",
      "            \"total_subscriptions\": 1,\n",
      "            \"metadata\": {}\n",
      "        },\n",
      "        \"card\": {\n",
      "            \"object\": \"card\",\n",
      "            \"id\": \"crd_test_yjsrR87YeJ1lLwk5\",\n",
      "            \"active\": true,\n",
      "            \"creation_date\": 1615131642000,\n",
      "            \"customer_id\": \"cus_test_dPj41BFoNfZ1Uzjd\",\n",
      "            \"source\": {\n",
      "                \"object\": \"token\",\n",
      "                \"id\": \"tkn_test_JEGrRw0E6DwWwjwV\",\n",
      "                \"type\": \"card\",\n",
      "                \"creation_date\": 1615131637000,\n",
      "                \"email\": \"richard5f26@piedpiper.com\",\n",
      "                \"card_number\": \"411111******1111\",\n",
      "                \"last_four\": \"1111\",\n",
      "                \"active\": true,\n",
      "                \"iin\": {\n",
      "                    \"object\": \"iin\",\n",
      "                    \"bin\": \"411111\",\n",
      "                    \"card_brand\": \"Visa\",\n",
      "                    \"card_type\": \"credito\",\n",
      "                    \"card_category\": \"Clásica\",\n",
      "                    \"issuer\": {\n",
      "                        \"name\": \"BBVA\",\n",
      "                        \"country\": \"PERU\",\n",
      "                        \"country_code\": \"PE\",\n",
      "                        \"website\": null,\n",
      "                        \"phone_number\": null\n",
      "                    },\n",
      "                    \"installments_allowed\": [\n",
      "                        2,\n",
      "                        4,\n",
      "                        6,\n",
      "                        8,\n",
      "                        10,\n",
      "                        12,\n",
      "                        3,\n",
      "                        5,\n",
      "                        7,\n",
      "                        9,\n",
      "                        24,\n",
      "                        48\n",
      "                    ]\n",
      "                },\n",
      "                \"client\": {\n",
      "                    \"ip\": \"191.98.182.73\",\n",
      "                    \"ip_country\": \"Peru\",\n",
      "                    \"ip_country_code\": \"PE\",\n",
      "                    \"browser\": \"UNKNOWN\",\n",
      "                    \"device_fingerprint\": null,\n",
      "                    \"device_type\": \"Escritorio\"\n",
      "                },\n",
      "                \"metadata\": {}\n",
      "            },\n",
      "            \"metadata\": {}\n",
      "        },\n",
      "        \"metadata\": {}\n",
      "    }\n",
      "}\n"
     ]
    }
   ],
   "source": [
    "subscription_id = subscription[\"data\"][\"id\"]\n",
    "subscription = culqi.subscription.read(id_=subscription_id)\n",
    "\n",
    "display(subscription)"
   ]
  },
  {
   "cell_type": "markdown",
   "id": "enclosed-fetish",
   "metadata": {},
   "source": [
    "### Actualizar"
   ]
  },
  {
   "cell_type": "code",
   "execution_count": 43,
   "id": "infectious-palestine",
   "metadata": {
    "tags": []
   },
   "outputs": [
    {
     "name": "stdout",
     "output_type": "stream",
     "text": [
      "{\n",
      "    \"status\": 200,\n",
      "    \"data\": {\n",
      "        \"object\": \"subscription\",\n",
      "        \"id\": \"sub_test_fcGyWEQTh83qcZyS\",\n",
      "        \"creation_date\": 1615131643000,\n",
      "        \"status\": \"Activa\",\n",
      "        \"current_period\": 0,\n",
      "        \"total_period\": 10,\n",
      "        \"current_period_start\": 1617685200000,\n",
      "        \"current_period_end\": 1617858000000,\n",
      "        \"cancel_at_period_end\": false,\n",
      "        \"cancel_at\": null,\n",
      "        \"ended_at\": 1619413200000,\n",
      "        \"next_billing_date\": 1617685200000,\n",
      "        \"trial_start\": 1615131643000,\n",
      "        \"trial_end\": 1617723643000,\n",
      "        \"charges\": [],\n",
      "        \"plan\": {\n",
      "            \"object\": \"plan\",\n",
      "            \"id\": \"pln_test_wPdNqlSBErDW9vbS\",\n",
      "            \"creation_date\": 1615131642000,\n",
      "            \"name\": \"plan-035c\",\n",
      "            \"amount\": 1000,\n",
      "            \"currency_code\": \"PEN\",\n",
      "            \"interval_count\": 2,\n",
      "            \"interval\": \"Días\",\n",
      "            \"limit\": 10,\n",
      "            \"trial_days\": 30,\n",
      "            \"total_subscriptions\": 1,\n",
      "            \"metadata\": {}\n",
      "        },\n",
      "        \"card\": {\n",
      "            \"object\": \"card\",\n",
      "            \"id\": \"crd_test_yjsrR87YeJ1lLwk5\",\n",
      "            \"active\": true,\n",
      "            \"creation_date\": 1615131642000,\n",
      "            \"customer_id\": \"cus_test_dPj41BFoNfZ1Uzjd\",\n",
      "            \"source\": {\n",
      "                \"object\": \"token\",\n",
      "                \"id\": \"tkn_test_JEGrRw0E6DwWwjwV\",\n",
      "                \"type\": \"card\",\n",
      "                \"creation_date\": 1615131637000,\n",
      "                \"email\": \"richard5f26@piedpiper.com\",\n",
      "                \"card_number\": \"411111******1111\",\n",
      "                \"last_four\": \"1111\",\n",
      "                \"active\": true,\n",
      "                \"iin\": {\n",
      "                    \"object\": \"iin\",\n",
      "                    \"bin\": \"411111\",\n",
      "                    \"card_brand\": \"Visa\",\n",
      "                    \"card_type\": \"credito\",\n",
      "                    \"card_category\": \"Clásica\",\n",
      "                    \"issuer\": {\n",
      "                        \"name\": \"BBVA\",\n",
      "                        \"country\": \"PERU\",\n",
      "                        \"country_code\": \"PE\",\n",
      "                        \"website\": null,\n",
      "                        \"phone_number\": null\n",
      "                    },\n",
      "                    \"installments_allowed\": [\n",
      "                        2,\n",
      "                        4,\n",
      "                        6,\n",
      "                        8,\n",
      "                        10,\n",
      "                        12,\n",
      "                        3,\n",
      "                        5,\n",
      "                        7,\n",
      "                        9,\n",
      "                        24,\n",
      "                        48\n",
      "                    ]\n",
      "                },\n",
      "                \"client\": {\n",
      "                    \"ip\": \"191.98.182.73\",\n",
      "                    \"ip_country\": \"Peru\",\n",
      "                    \"ip_country_code\": \"PE\",\n",
      "                    \"browser\": \"UNKNOWN\",\n",
      "                    \"device_fingerprint\": null,\n",
      "                    \"device_type\": \"Escritorio\"\n",
      "                },\n",
      "                \"metadata\": {}\n",
      "            },\n",
      "            \"metadata\": {}\n",
      "        },\n",
      "        \"metadata\": {\n",
      "            \"orderId\": \"1234567890\"\n",
      "        }\n",
      "    }\n",
      "}\n"
     ]
    }
   ],
   "source": [
    "subscription_id = subscription[\"data\"][\"id\"]\n",
    "subscription_metadata = {\n",
    "    \"metadata\": {\n",
    "        \"orderId\": 1234567890\n",
    "    }\n",
    "}\n",
    "subscription = culqi.subscription.update(\n",
    "    id_=subscription_id, data=subscription_metadata\n",
    ")\n",
    "\n",
    "display(subscription)"
   ]
  },
  {
   "cell_type": "markdown",
   "id": "hundred-master",
   "metadata": {},
   "source": [
    "### Eliminar"
   ]
  },
  {
   "cell_type": "code",
   "execution_count": 44,
   "id": "controlling-address",
   "metadata": {},
   "outputs": [
    {
     "name": "stdout",
     "output_type": "stream",
     "text": [
      "{\n",
      "    \"status\": 200,\n",
      "    \"data\": {\n",
      "        \"id\": \"sub_test_fcGyWEQTh83qcZyS\",\n",
      "        \"deleted\": true,\n",
      "        \"merchant_message\": \"Se eliminó la suscripcion con ID sub_test_fcGyWEQTh83qcZyS exitosamente.\"\n",
      "    }\n",
      "}\n"
     ]
    }
   ],
   "source": [
    "subscription_id = subscription[\"data\"][\"id\"]\n",
    "deleted_subscription = culqi.subscription.delete(id_=subscription_id)\n",
    "\n",
    "display(deleted_subscription)"
   ]
  },
  {
   "cell_type": "markdown",
   "id": "vietnamese-object",
   "metadata": {},
   "source": [
    "## Órdenes"
   ]
  },
  {
   "cell_type": "markdown",
   "id": "proved-coral",
   "metadata": {},
   "source": [
    "Consulta la documentación de Culqi en [`https://apidocs.culqi.com/#/orders`](https://apidocs.culqi.com/#/orders)"
   ]
  },
  {
   "cell_type": "code",
   "execution_count": 45,
   "id": "honey-michael",
   "metadata": {},
   "outputs": [],
   "source": [
    "def get_order_data():\n",
    "    order_data = deepcopy(Data.ORDER)\n",
    "    order_data[\"order_number\"] = \"order-{0}\".format(uuid4().hex[:4])\n",
    "\n",
    "    return order_data"
   ]
  },
  {
   "cell_type": "markdown",
   "id": "appointed-australia",
   "metadata": {},
   "source": [
    "### Listar"
   ]
  },
  {
   "cell_type": "code",
   "execution_count": 46,
   "id": "australian-julian",
   "metadata": {
    "tags": []
   },
   "outputs": [
    {
     "name": "stdout",
     "output_type": "stream",
     "text": [
      "{\n",
      "    \"status\": 200,\n",
      "    \"data\": {\n",
      "        \"paging\": {\n",
      "            \"previous\": \"https://api.culqi.com/v2/orders?limit=1&before=ord_test_mpgi4pJYVcpPljv6\",\n",
      "            \"next\": \"https://api.culqi.com/v2/orders?limit=1&after=ord_test_mpgi4pJYVcpPljv6\",\n",
      "            \"cursors\": {\n",
      "                \"before\": \"ord_test_mpgi4pJYVcpPljv6\",\n",
      "                \"after\": \"ord_test_mpgi4pJYVcpPljv6\"\n",
      "            },\n",
      "            \"remaining_items\": 35\n",
      "        },\n",
      "        \"items\": [\n",
      "            {\n",
      "                \"object\": \"order\",\n",
      "                \"id\": \"ord_test_mpgi4pJYVcpPljv6\",\n",
      "                \"amount\": 1000,\n",
      "                \"payment_code\": null,\n",
      "                \"currency_code\": \"PEN\",\n",
      "                \"description\": \"Venta de prueba\",\n",
      "                \"order_number\": \"order-a39b\",\n",
      "                \"state\": \"deleted\",\n",
      "                \"total_fee\": null,\n",
      "                \"net_amount\": null,\n",
      "                \"fee_details\": null,\n",
      "                \"creation_date\": 1615131475,\n",
      "                \"expiration_date\": 1893474000,\n",
      "                \"updated_at\": 1615131475,\n",
      "                \"paid_at\": null,\n",
      "                \"available_on\": null,\n",
      "                \"metadata\": {}\n",
      "            }\n",
      "        ]\n",
      "    }\n",
      "}\n"
     ]
    }
   ],
   "source": [
    "order_list = culqi.order.list(\n",
    "    data={\n",
    "        \"limit\": 1,\n",
    "    },\n",
    "    headers={\n",
    "        \"Accept-Encoding\": \"identity\",\n",
    "    },\n",
    ")\n",
    "\n",
    "display(order_list)"
   ]
  },
  {
   "cell_type": "markdown",
   "id": "spoken-arrangement",
   "metadata": {},
   "source": [
    "### Crear"
   ]
  },
  {
   "cell_type": "code",
   "execution_count": 47,
   "id": "generic-examination",
   "metadata": {
    "tags": []
   },
   "outputs": [
    {
     "name": "stdout",
     "output_type": "stream",
     "text": [
      "{\n",
      "    \"status\": 201,\n",
      "    \"data\": {\n",
      "        \"object\": \"order\",\n",
      "        \"id\": \"ord_test_RR6XRh6IXDmFhKlC\",\n",
      "        \"amount\": 1000,\n",
      "        \"payment_code\": null,\n",
      "        \"currency_code\": \"PEN\",\n",
      "        \"description\": \"Venta de prueba\",\n",
      "        \"order_number\": \"order-c825\",\n",
      "        \"state\": \"created\",\n",
      "        \"total_fee\": null,\n",
      "        \"net_amount\": null,\n",
      "        \"fee_details\": null,\n",
      "        \"creation_date\": 1615131647,\n",
      "        \"expiration_date\": 1893474000,\n",
      "        \"updated_at\": 1615131647,\n",
      "        \"paid_at\": null,\n",
      "        \"available_on\": null,\n",
      "        \"metadata\": {}\n",
      "    }\n",
      "}\n"
     ]
    }
   ],
   "source": [
    "order_data = get_order_data()\n",
    "order = culqi.order.create(data=order_data)\n",
    "\n",
    "display(order)"
   ]
  },
  {
   "cell_type": "markdown",
   "id": "juvenile-hawaii",
   "metadata": {},
   "source": [
    "### Confirmar"
   ]
  },
  {
   "cell_type": "code",
   "execution_count": 48,
   "id": "thousand-utilization",
   "metadata": {
    "tags": []
   },
   "outputs": [
    {
     "name": "stdout",
     "output_type": "stream",
     "text": [
      "{\n",
      "    \"status\": 201,\n",
      "    \"data\": {\n",
      "        \"object\": \"order\",\n",
      "        \"id\": \"ord_test_RR6XRh6IXDmFhKlC\",\n",
      "        \"amount\": 1000,\n",
      "        \"payment_code\": \"013117141\",\n",
      "        \"currency_code\": \"PEN\",\n",
      "        \"description\": \"Venta de prueba\",\n",
      "        \"order_number\": \"order-c825\",\n",
      "        \"state\": \"pending\",\n",
      "        \"total_fee\": null,\n",
      "        \"net_amount\": null,\n",
      "        \"fee_details\": null,\n",
      "        \"creation_date\": 1615131647,\n",
      "        \"expiration_date\": 1893474000,\n",
      "        \"updated_at\": 1615131647,\n",
      "        \"paid_at\": null,\n",
      "        \"available_on\": null,\n",
      "        \"metadata\": {}\n",
      "    }\n",
      "}\n"
     ]
    }
   ],
   "source": [
    "order_id = order[\"data\"][\"id\"]\n",
    "order = culqi.order.confirm(id_=order_id)\n",
    "\n",
    "display(order)"
   ]
  },
  {
   "cell_type": "markdown",
   "id": "clean-masters",
   "metadata": {},
   "source": [
    "### Leer"
   ]
  },
  {
   "cell_type": "code",
   "execution_count": 49,
   "id": "dedicated-shoot",
   "metadata": {
    "tags": []
   },
   "outputs": [
    {
     "name": "stdout",
     "output_type": "stream",
     "text": [
      "{\n",
      "    \"status\": 200,\n",
      "    \"data\": {\n",
      "        \"object\": \"order\",\n",
      "        \"id\": \"ord_test_RR6XRh6IXDmFhKlC\",\n",
      "        \"amount\": 1000,\n",
      "        \"payment_code\": \"013117141\",\n",
      "        \"currency_code\": \"PEN\",\n",
      "        \"description\": \"Venta de prueba\",\n",
      "        \"order_number\": \"order-c825\",\n",
      "        \"state\": \"pending\",\n",
      "        \"total_fee\": null,\n",
      "        \"net_amount\": null,\n",
      "        \"fee_details\": null,\n",
      "        \"creation_date\": 1615131647,\n",
      "        \"expiration_date\": 1893474000,\n",
      "        \"updated_at\": 1615131648,\n",
      "        \"paid_at\": null,\n",
      "        \"available_on\": null,\n",
      "        \"metadata\": {}\n",
      "    }\n",
      "}\n"
     ]
    }
   ],
   "source": [
    "order_id = order[\"data\"][\"id\"]\n",
    "order = culqi.order.read(id_=order_id)\n",
    "\n",
    "display(order)"
   ]
  },
  {
   "cell_type": "markdown",
   "id": "informative-sodium",
   "metadata": {},
   "source": [
    "### Actualizar"
   ]
  },
  {
   "cell_type": "code",
   "execution_count": 50,
   "id": "powerful-latex",
   "metadata": {
    "tags": []
   },
   "outputs": [
    {
     "name": "stdout",
     "output_type": "stream",
     "text": [
      "{\n",
      "    \"status\": 200,\n",
      "    \"data\": {\n",
      "        \"object\": \"order\",\n",
      "        \"id\": \"ord_test_RR6XRh6IXDmFhKlC\",\n",
      "        \"amount\": 1000,\n",
      "        \"payment_code\": \"013117141\",\n",
      "        \"currency_code\": \"PEN\",\n",
      "        \"description\": \"Venta de prueba\",\n",
      "        \"order_number\": \"order-c825\",\n",
      "        \"state\": \"pending\",\n",
      "        \"total_fee\": null,\n",
      "        \"net_amount\": null,\n",
      "        \"fee_details\": null,\n",
      "        \"creation_date\": 1615131647,\n",
      "        \"expiration_date\": 1893474000,\n",
      "        \"updated_at\": 1615131648,\n",
      "        \"paid_at\": null,\n",
      "        \"available_on\": null,\n",
      "        \"metadata\": {\n",
      "            \"orderId\": \"1234567890\"\n",
      "        }\n",
      "    }\n",
      "}\n"
     ]
    }
   ],
   "source": [
    "order_id = order[\"data\"][\"id\"]\n",
    "order_metadata = {\n",
    "    \"metadata\": {\n",
    "        \"orderId\": 1234567890\n",
    "    }\n",
    "}\n",
    "order = culqi.order.update(\n",
    "    id_=order_id, data=order_metadata\n",
    ")\n",
    "\n",
    "display(order)"
   ]
  },
  {
   "cell_type": "markdown",
   "id": "bizarre-mountain",
   "metadata": {},
   "source": [
    "### Eliminar"
   ]
  },
  {
   "cell_type": "code",
   "execution_count": 51,
   "id": "rational-popularity",
   "metadata": {},
   "outputs": [
    {
     "name": "stdout",
     "output_type": "stream",
     "text": [
      "{\n",
      "    \"status\": 204,\n",
      "    \"data\": {}\n",
      "}\n"
     ]
    }
   ],
   "source": [
    "order_id = order[\"data\"][\"id\"]\n",
    "deleted_order = culqi.order.delete(id_=order_id)\n",
    "\n",
    "display(deleted_order)"
   ]
  },
  {
   "cell_type": "markdown",
   "id": "eligible-possession",
   "metadata": {},
   "source": [
    "## Eventos"
   ]
  },
  {
   "cell_type": "markdown",
   "id": "proof-machine",
   "metadata": {},
   "source": [
    "Consulta la documentación de Culqi en [`https://apidocs.culqi.com/#/eventos`](https://apidocs.culqi.com/#/eventos)"
   ]
  },
  {
   "cell_type": "markdown",
   "id": "virgin-dealing",
   "metadata": {},
   "source": [
    "### Listar"
   ]
  },
  {
   "cell_type": "code",
   "execution_count": 52,
   "id": "innocent-prize",
   "metadata": {
    "tags": []
   },
   "outputs": [
    {
     "name": "stdout",
     "output_type": "stream",
     "text": [
      "{\n",
      "    \"status\": 200,\n",
      "    \"data\": {\n",
      "        \"paging\": {\n",
      "            \"previous\": null,\n",
      "            \"next\": null,\n",
      "            \"cursors\": {\n",
      "                \"before\": null,\n",
      "                \"after\": null\n",
      "            },\n",
      "            \"remaining_items\": 0\n",
      "        },\n",
      "        \"items\": []\n",
      "    }\n",
      "}\n"
     ]
    }
   ],
   "source": [
    "event_list = culqi.event.list(\n",
    "    data={\n",
    "        \"limit\": 1,\n",
    "    },\n",
    "    headers={\n",
    "        \"Accept-Encoding\": \"identity\",\n",
    "    },\n",
    ")\n",
    "\n",
    "display(event_list)"
   ]
  },
  {
   "cell_type": "markdown",
   "id": "indie-morrison",
   "metadata": {},
   "source": [
    "### Leer"
   ]
  },
  {
   "cell_type": "code",
   "execution_count": 53,
   "id": "naked-property",
   "metadata": {
    "tags": []
   },
   "outputs": [
    {
     "name": "stdout",
     "output_type": "stream",
     "text": [
      "{\n",
      "    \"status\": 400,\n",
      "    \"data\": {\n",
      "        \"object\": \"error\",\n",
      "        \"type\": \"parameter_error\",\n",
      "        \"merchant_message\": \"No existe el evento que intentas consultar: 'sample_event_id' o tiene un formato inválido.\"\n",
      "    }\n",
      "}\n"
     ]
    }
   ],
   "source": [
    "event_id = \"sample_event_id\"\n",
    "event = culqi.event.read(id_=event_id)\n",
    "\n",
    "display(event)"
   ]
  },
  {
   "cell_type": "markdown",
   "id": "comparative-raising",
   "metadata": {},
   "source": [
    "## IINs"
   ]
  },
  {
   "cell_type": "markdown",
   "id": "brief-black",
   "metadata": {},
   "source": [
    "Actualmente no hay documentación sobre los IINs en la web oficial de Culqi"
   ]
  },
  {
   "cell_type": "markdown",
   "id": "strategic-acting",
   "metadata": {},
   "source": [
    "### Listar"
   ]
  },
  {
   "cell_type": "code",
   "execution_count": 54,
   "id": "active-facility",
   "metadata": {
    "tags": []
   },
   "outputs": [
    {
     "name": "stdout",
     "output_type": "stream",
     "text": [
      "{\n",
      "    \"status\": 200,\n",
      "    \"data\": {\n",
      "        \"paging\": {\n",
      "            \"previous\": \"https://api.culqi.com/v2/iins?limit=1&before=533958\",\n",
      "            \"next\": \"https://api.culqi.com/v2/iins?limit=1&after=533958\",\n",
      "            \"cursors\": {\n",
      "                \"before\": \"533958\",\n",
      "                \"after\": \"533958\"\n",
      "            },\n",
      "            \"remaining_items\": null\n",
      "        },\n",
      "        \"items\": [\n",
      "            {\n",
      "                \"object\": \"iin\",\n",
      "                \"bin\": \"533958\",\n",
      "                \"card_brand\": \"MasterCard\",\n",
      "                \"card_type\": \"credito\",\n",
      "                \"card_category\": null,\n",
      "                \"issuer\": {\n",
      "                    \"name\": \"FINANCIERA OH, S.A.\",\n",
      "                    \"country\": \"PERU\",\n",
      "                    \"country_code\": \"PE\",\n",
      "                    \"website\": null,\n",
      "                    \"phone_number\": null\n",
      "                },\n",
      "                \"installments_allowed\": []\n",
      "            }\n",
      "        ]\n",
      "    }\n",
      "}\n"
     ]
    }
   ],
   "source": [
    "iin_list = culqi.iin.list(\n",
    "    data={\n",
    "        \"limit\": 1,\n",
    "    },\n",
    "    headers={\n",
    "        \"Accept-Encoding\": \"identity\",\n",
    "    },\n",
    ")\n",
    "\n",
    "display(iin_list)"
   ]
  },
  {
   "cell_type": "markdown",
   "id": "wireless-transcript",
   "metadata": {},
   "source": [
    "### Leer"
   ]
  },
  {
   "cell_type": "code",
   "execution_count": 55,
   "id": "preceding-presence",
   "metadata": {
    "tags": []
   },
   "outputs": [
    {
     "name": "stdout",
     "output_type": "stream",
     "text": [
      "{\n",
      "    \"status\": 401,\n",
      "    \"data\": {\n",
      "        \"object\": \"error\",\n",
      "        \"type\": \"authentication_error\",\n",
      "        \"merchant_message\": \"Has utilizado la llave equivocada para realizar la operación. Dirígete al Panel de Integracion para usar las llaves correctas.\"\n",
      "    }\n",
      "}\n"
     ]
    }
   ],
   "source": [
    "iin_id = \"sample_event_id\"\n",
    "iin = culqi.iin.read(id_=iin_id)\n",
    "\n",
    "display(iin)"
   ]
  }
 ],
 "metadata": {
  "authors": [
   {
    "name": "SoftButterfly Development Team \\\\ \\url{https://softbutterfly.io} \\\\ \\href{mailto:dev@softbutterfly.io}{ping@softbutterfly.io}"
   }
  ],
  "kernelspec": {
   "display_name": "Python 3",
   "language": "python",
   "name": "python3"
  },
  "language_info": {
   "codemirror_mode": {
    "name": "ipython",
    "version": 3
   },
   "file_extension": ".py",
   "mimetype": "text/x-python",
   "name": "python",
   "nbconvert_exporter": "python",
   "pygments_lexer": "ipython3",
   "version": "3.9.2"
  },
  "toc-autonumbering": true,
  "toc-showcode": false,
  "toc-showmarkdowntxt": false
 },
 "nbformat": 4,
 "nbformat_minor": 5
}
